{
 "cells": [
  {
   "cell_type": "markdown",
   "id": "8395554e",
   "metadata": {},
   "source": [
    "# Build a baseline model (5 marks) \n",
    "\n",
    "Use the Keras library to build a neural network with the following:\n",
    "\n",
    "- One hidden layer of 10 nodes, and a ReLU activation function\n",
    "\n",
    "- Use the adam optimizer and the mean squared error  as the loss function.\n",
    "\n",
    "1. Randomly split the data into a training and test sets by holding 30% of the data for testing. You can use the train_test_splithelper function from Scikit-learn.\n",
    "\n",
    "2. Train the model on the training data using 50 epochs.\n",
    "\n",
    "3. Evaluate the model on the test data and compute the mean squared error between the predicted concrete strength and the actual concrete strength. You can use the mean_squared_error function from Scikit-learn.\n",
    "\n",
    "4. Repeat steps 1 - 3, 50 times, i.e., create a list of 50 mean squared errors.\n",
    "\n",
    "5. Report the mean and the standard deviation of the mean squared errors."
   ]
  },
  {
   "cell_type": "markdown",
   "id": "c044e4c3",
   "metadata": {},
   "source": [
    "# Regression model using Keras (Data not normalized)"
   ]
  },
  {
   "cell_type": "markdown",
   "id": "56d80f0d",
   "metadata": {},
   "source": [
    "Lets import numpy and pandas to help us load and analyze data"
   ]
  },
  {
   "cell_type": "code",
   "execution_count": 36,
   "id": "45bdda92",
   "metadata": {},
   "outputs": [],
   "source": [
    "import numpy as np\n",
    "import pandas as pd"
   ]
  },
  {
   "cell_type": "code",
   "execution_count": 37,
   "id": "c0193a39",
   "metadata": {},
   "outputs": [
    {
     "data": {
      "text/html": [
       "<div>\n",
       "<style scoped>\n",
       "    .dataframe tbody tr th:only-of-type {\n",
       "        vertical-align: middle;\n",
       "    }\n",
       "\n",
       "    .dataframe tbody tr th {\n",
       "        vertical-align: top;\n",
       "    }\n",
       "\n",
       "    .dataframe thead th {\n",
       "        text-align: right;\n",
       "    }\n",
       "</style>\n",
       "<table border=\"1\" class=\"dataframe\">\n",
       "  <thead>\n",
       "    <tr style=\"text-align: right;\">\n",
       "      <th></th>\n",
       "      <th>Cement</th>\n",
       "      <th>Blast Furnace Slag</th>\n",
       "      <th>Fly Ash</th>\n",
       "      <th>Water</th>\n",
       "      <th>Superplasticizer</th>\n",
       "      <th>Coarse Aggregate</th>\n",
       "      <th>Fine Aggregate</th>\n",
       "      <th>Age</th>\n",
       "      <th>Strength</th>\n",
       "    </tr>\n",
       "  </thead>\n",
       "  <tbody>\n",
       "    <tr>\n",
       "      <th>0</th>\n",
       "      <td>540.0</td>\n",
       "      <td>0.0</td>\n",
       "      <td>0.0</td>\n",
       "      <td>162.0</td>\n",
       "      <td>2.5</td>\n",
       "      <td>1040.0</td>\n",
       "      <td>676.0</td>\n",
       "      <td>28</td>\n",
       "      <td>79.99</td>\n",
       "    </tr>\n",
       "    <tr>\n",
       "      <th>1</th>\n",
       "      <td>540.0</td>\n",
       "      <td>0.0</td>\n",
       "      <td>0.0</td>\n",
       "      <td>162.0</td>\n",
       "      <td>2.5</td>\n",
       "      <td>1055.0</td>\n",
       "      <td>676.0</td>\n",
       "      <td>28</td>\n",
       "      <td>61.89</td>\n",
       "    </tr>\n",
       "    <tr>\n",
       "      <th>2</th>\n",
       "      <td>332.5</td>\n",
       "      <td>142.5</td>\n",
       "      <td>0.0</td>\n",
       "      <td>228.0</td>\n",
       "      <td>0.0</td>\n",
       "      <td>932.0</td>\n",
       "      <td>594.0</td>\n",
       "      <td>270</td>\n",
       "      <td>40.27</td>\n",
       "    </tr>\n",
       "    <tr>\n",
       "      <th>3</th>\n",
       "      <td>332.5</td>\n",
       "      <td>142.5</td>\n",
       "      <td>0.0</td>\n",
       "      <td>228.0</td>\n",
       "      <td>0.0</td>\n",
       "      <td>932.0</td>\n",
       "      <td>594.0</td>\n",
       "      <td>365</td>\n",
       "      <td>41.05</td>\n",
       "    </tr>\n",
       "    <tr>\n",
       "      <th>4</th>\n",
       "      <td>198.6</td>\n",
       "      <td>132.4</td>\n",
       "      <td>0.0</td>\n",
       "      <td>192.0</td>\n",
       "      <td>0.0</td>\n",
       "      <td>978.4</td>\n",
       "      <td>825.5</td>\n",
       "      <td>360</td>\n",
       "      <td>44.30</td>\n",
       "    </tr>\n",
       "  </tbody>\n",
       "</table>\n",
       "</div>"
      ],
      "text/plain": [
       "   Cement  Blast Furnace Slag  Fly Ash  Water  Superplasticizer  \\\n",
       "0   540.0                 0.0      0.0  162.0               2.5   \n",
       "1   540.0                 0.0      0.0  162.0               2.5   \n",
       "2   332.5               142.5      0.0  228.0               0.0   \n",
       "3   332.5               142.5      0.0  228.0               0.0   \n",
       "4   198.6               132.4      0.0  192.0               0.0   \n",
       "\n",
       "   Coarse Aggregate  Fine Aggregate  Age  Strength  \n",
       "0            1040.0           676.0   28     79.99  \n",
       "1            1055.0           676.0   28     61.89  \n",
       "2             932.0           594.0  270     40.27  \n",
       "3             932.0           594.0  365     41.05  \n",
       "4             978.4           825.5  360     44.30  "
      ]
     },
     "execution_count": 37,
     "metadata": {},
     "output_type": "execute_result"
    }
   ],
   "source": [
    "#lets load the data, and take a look at the data using .head()\n",
    "data = pd.read_csv(\"concrete_data.csv\")\n",
    "data.head()\n"
   ]
  },
  {
   "cell_type": "code",
   "execution_count": 38,
   "id": "abd20514",
   "metadata": {},
   "outputs": [
    {
     "data": {
      "text/plain": [
       "(1030, 9)"
      ]
     },
     "execution_count": 38,
     "metadata": {},
     "output_type": "execute_result"
    }
   ],
   "source": [
    "#lets print the shape of the data (i.e. number of rows and columns)\n",
    "data.shape"
   ]
  },
  {
   "cell_type": "markdown",
   "id": "394d0bc9",
   "metadata": {},
   "source": [
    "Therefore, our dataset has 1030 rows and only 9 columns.\n",
    "Lets take a look at the data for any missing values before we start building the model using the data."
   ]
  },
  {
   "cell_type": "code",
   "execution_count": 39,
   "id": "f48e13bd",
   "metadata": {},
   "outputs": [
    {
     "data": {
      "text/html": [
       "<div>\n",
       "<style scoped>\n",
       "    .dataframe tbody tr th:only-of-type {\n",
       "        vertical-align: middle;\n",
       "    }\n",
       "\n",
       "    .dataframe tbody tr th {\n",
       "        vertical-align: top;\n",
       "    }\n",
       "\n",
       "    .dataframe thead th {\n",
       "        text-align: right;\n",
       "    }\n",
       "</style>\n",
       "<table border=\"1\" class=\"dataframe\">\n",
       "  <thead>\n",
       "    <tr style=\"text-align: right;\">\n",
       "      <th></th>\n",
       "      <th>Cement</th>\n",
       "      <th>Blast Furnace Slag</th>\n",
       "      <th>Fly Ash</th>\n",
       "      <th>Water</th>\n",
       "      <th>Superplasticizer</th>\n",
       "      <th>Coarse Aggregate</th>\n",
       "      <th>Fine Aggregate</th>\n",
       "      <th>Age</th>\n",
       "      <th>Strength</th>\n",
       "    </tr>\n",
       "  </thead>\n",
       "  <tbody>\n",
       "    <tr>\n",
       "      <th>count</th>\n",
       "      <td>1030.000000</td>\n",
       "      <td>1030.000000</td>\n",
       "      <td>1030.000000</td>\n",
       "      <td>1030.000000</td>\n",
       "      <td>1030.000000</td>\n",
       "      <td>1030.000000</td>\n",
       "      <td>1030.000000</td>\n",
       "      <td>1030.000000</td>\n",
       "      <td>1030.000000</td>\n",
       "    </tr>\n",
       "    <tr>\n",
       "      <th>mean</th>\n",
       "      <td>281.167864</td>\n",
       "      <td>73.895825</td>\n",
       "      <td>54.188350</td>\n",
       "      <td>181.567282</td>\n",
       "      <td>6.204660</td>\n",
       "      <td>972.918932</td>\n",
       "      <td>773.580485</td>\n",
       "      <td>45.662136</td>\n",
       "      <td>35.817961</td>\n",
       "    </tr>\n",
       "    <tr>\n",
       "      <th>std</th>\n",
       "      <td>104.506364</td>\n",
       "      <td>86.279342</td>\n",
       "      <td>63.997004</td>\n",
       "      <td>21.354219</td>\n",
       "      <td>5.973841</td>\n",
       "      <td>77.753954</td>\n",
       "      <td>80.175980</td>\n",
       "      <td>63.169912</td>\n",
       "      <td>16.705742</td>\n",
       "    </tr>\n",
       "    <tr>\n",
       "      <th>min</th>\n",
       "      <td>102.000000</td>\n",
       "      <td>0.000000</td>\n",
       "      <td>0.000000</td>\n",
       "      <td>121.800000</td>\n",
       "      <td>0.000000</td>\n",
       "      <td>801.000000</td>\n",
       "      <td>594.000000</td>\n",
       "      <td>1.000000</td>\n",
       "      <td>2.330000</td>\n",
       "    </tr>\n",
       "    <tr>\n",
       "      <th>25%</th>\n",
       "      <td>192.375000</td>\n",
       "      <td>0.000000</td>\n",
       "      <td>0.000000</td>\n",
       "      <td>164.900000</td>\n",
       "      <td>0.000000</td>\n",
       "      <td>932.000000</td>\n",
       "      <td>730.950000</td>\n",
       "      <td>7.000000</td>\n",
       "      <td>23.710000</td>\n",
       "    </tr>\n",
       "    <tr>\n",
       "      <th>50%</th>\n",
       "      <td>272.900000</td>\n",
       "      <td>22.000000</td>\n",
       "      <td>0.000000</td>\n",
       "      <td>185.000000</td>\n",
       "      <td>6.400000</td>\n",
       "      <td>968.000000</td>\n",
       "      <td>779.500000</td>\n",
       "      <td>28.000000</td>\n",
       "      <td>34.445000</td>\n",
       "    </tr>\n",
       "    <tr>\n",
       "      <th>75%</th>\n",
       "      <td>350.000000</td>\n",
       "      <td>142.950000</td>\n",
       "      <td>118.300000</td>\n",
       "      <td>192.000000</td>\n",
       "      <td>10.200000</td>\n",
       "      <td>1029.400000</td>\n",
       "      <td>824.000000</td>\n",
       "      <td>56.000000</td>\n",
       "      <td>46.135000</td>\n",
       "    </tr>\n",
       "    <tr>\n",
       "      <th>max</th>\n",
       "      <td>540.000000</td>\n",
       "      <td>359.400000</td>\n",
       "      <td>200.100000</td>\n",
       "      <td>247.000000</td>\n",
       "      <td>32.200000</td>\n",
       "      <td>1145.000000</td>\n",
       "      <td>992.600000</td>\n",
       "      <td>365.000000</td>\n",
       "      <td>82.600000</td>\n",
       "    </tr>\n",
       "  </tbody>\n",
       "</table>\n",
       "</div>"
      ],
      "text/plain": [
       "            Cement  Blast Furnace Slag      Fly Ash        Water  \\\n",
       "count  1030.000000         1030.000000  1030.000000  1030.000000   \n",
       "mean    281.167864           73.895825    54.188350   181.567282   \n",
       "std     104.506364           86.279342    63.997004    21.354219   \n",
       "min     102.000000            0.000000     0.000000   121.800000   \n",
       "25%     192.375000            0.000000     0.000000   164.900000   \n",
       "50%     272.900000           22.000000     0.000000   185.000000   \n",
       "75%     350.000000          142.950000   118.300000   192.000000   \n",
       "max     540.000000          359.400000   200.100000   247.000000   \n",
       "\n",
       "       Superplasticizer  Coarse Aggregate  Fine Aggregate          Age  \\\n",
       "count       1030.000000       1030.000000     1030.000000  1030.000000   \n",
       "mean           6.204660        972.918932      773.580485    45.662136   \n",
       "std            5.973841         77.753954       80.175980    63.169912   \n",
       "min            0.000000        801.000000      594.000000     1.000000   \n",
       "25%            0.000000        932.000000      730.950000     7.000000   \n",
       "50%            6.400000        968.000000      779.500000    28.000000   \n",
       "75%           10.200000       1029.400000      824.000000    56.000000   \n",
       "max           32.200000       1145.000000      992.600000   365.000000   \n",
       "\n",
       "          Strength  \n",
       "count  1030.000000  \n",
       "mean     35.817961  \n",
       "std      16.705742  \n",
       "min       2.330000  \n",
       "25%      23.710000  \n",
       "50%      34.445000  \n",
       "75%      46.135000  \n",
       "max      82.600000  "
      ]
     },
     "execution_count": 39,
     "metadata": {},
     "output_type": "execute_result"
    }
   ],
   "source": [
    "data.describe()\n"
   ]
  },
  {
   "cell_type": "code",
   "execution_count": 40,
   "id": "06911fcb",
   "metadata": {},
   "outputs": [
    {
     "data": {
      "text/plain": [
       "Cement                0\n",
       "Blast Furnace Slag    0\n",
       "Fly Ash               0\n",
       "Water                 0\n",
       "Superplasticizer      0\n",
       "Coarse Aggregate      0\n",
       "Fine Aggregate        0\n",
       "Age                   0\n",
       "Strength              0\n",
       "dtype: int64"
      ]
     },
     "execution_count": 40,
     "metadata": {},
     "output_type": "execute_result"
    }
   ],
   "source": [
    "data.isnull().sum()"
   ]
  },
  {
   "cell_type": "markdown",
   "id": "74e6d49e",
   "metadata": {},
   "source": [
    "The data looks good so far, therfore we can begin the next steps."
   ]
  },
  {
   "cell_type": "markdown",
   "id": "5ac2315a",
   "metadata": {},
   "source": [
    "Since, for the first part, we are not to normalioze the data, I will jump straight to splitting the dataset."
   ]
  },
  {
   "cell_type": "markdown",
   "id": "ed7b9a4a",
   "metadata": {},
   "source": [
    "### Lets divide our dataset into predictors (X) and target variable (y) (independent and dependent variable)"
   ]
  },
  {
   "cell_type": "code",
   "execution_count": 41,
   "id": "840a2fa3",
   "metadata": {},
   "outputs": [
    {
     "data": {
      "text/html": [
       "<div>\n",
       "<style scoped>\n",
       "    .dataframe tbody tr th:only-of-type {\n",
       "        vertical-align: middle;\n",
       "    }\n",
       "\n",
       "    .dataframe tbody tr th {\n",
       "        vertical-align: top;\n",
       "    }\n",
       "\n",
       "    .dataframe thead th {\n",
       "        text-align: right;\n",
       "    }\n",
       "</style>\n",
       "<table border=\"1\" class=\"dataframe\">\n",
       "  <thead>\n",
       "    <tr style=\"text-align: right;\">\n",
       "      <th></th>\n",
       "      <th>Cement</th>\n",
       "      <th>Blast Furnace Slag</th>\n",
       "      <th>Fly Ash</th>\n",
       "      <th>Water</th>\n",
       "      <th>Superplasticizer</th>\n",
       "      <th>Coarse Aggregate</th>\n",
       "      <th>Fine Aggregate</th>\n",
       "      <th>Age</th>\n",
       "    </tr>\n",
       "  </thead>\n",
       "  <tbody>\n",
       "    <tr>\n",
       "      <th>0</th>\n",
       "      <td>540.0</td>\n",
       "      <td>0.0</td>\n",
       "      <td>0.0</td>\n",
       "      <td>162.0</td>\n",
       "      <td>2.5</td>\n",
       "      <td>1040.0</td>\n",
       "      <td>676.0</td>\n",
       "      <td>28</td>\n",
       "    </tr>\n",
       "    <tr>\n",
       "      <th>1</th>\n",
       "      <td>540.0</td>\n",
       "      <td>0.0</td>\n",
       "      <td>0.0</td>\n",
       "      <td>162.0</td>\n",
       "      <td>2.5</td>\n",
       "      <td>1055.0</td>\n",
       "      <td>676.0</td>\n",
       "      <td>28</td>\n",
       "    </tr>\n",
       "    <tr>\n",
       "      <th>2</th>\n",
       "      <td>332.5</td>\n",
       "      <td>142.5</td>\n",
       "      <td>0.0</td>\n",
       "      <td>228.0</td>\n",
       "      <td>0.0</td>\n",
       "      <td>932.0</td>\n",
       "      <td>594.0</td>\n",
       "      <td>270</td>\n",
       "    </tr>\n",
       "    <tr>\n",
       "      <th>3</th>\n",
       "      <td>332.5</td>\n",
       "      <td>142.5</td>\n",
       "      <td>0.0</td>\n",
       "      <td>228.0</td>\n",
       "      <td>0.0</td>\n",
       "      <td>932.0</td>\n",
       "      <td>594.0</td>\n",
       "      <td>365</td>\n",
       "    </tr>\n",
       "    <tr>\n",
       "      <th>4</th>\n",
       "      <td>198.6</td>\n",
       "      <td>132.4</td>\n",
       "      <td>0.0</td>\n",
       "      <td>192.0</td>\n",
       "      <td>0.0</td>\n",
       "      <td>978.4</td>\n",
       "      <td>825.5</td>\n",
       "      <td>360</td>\n",
       "    </tr>\n",
       "  </tbody>\n",
       "</table>\n",
       "</div>"
      ],
      "text/plain": [
       "   Cement  Blast Furnace Slag  Fly Ash  Water  Superplasticizer  \\\n",
       "0   540.0                 0.0      0.0  162.0               2.5   \n",
       "1   540.0                 0.0      0.0  162.0               2.5   \n",
       "2   332.5               142.5      0.0  228.0               0.0   \n",
       "3   332.5               142.5      0.0  228.0               0.0   \n",
       "4   198.6               132.4      0.0  192.0               0.0   \n",
       "\n",
       "   Coarse Aggregate  Fine Aggregate  Age  \n",
       "0            1040.0           676.0   28  \n",
       "1            1055.0           676.0   28  \n",
       "2             932.0           594.0  270  \n",
       "3             932.0           594.0  365  \n",
       "4             978.4           825.5  360  "
      ]
     },
     "execution_count": 41,
     "metadata": {},
     "output_type": "execute_result"
    }
   ],
   "source": [
    "X = data[['Cement','Blast Furnace Slag','Fly Ash',\n",
    "                  'Water','Superplasticizer','Coarse Aggregate','Fine Aggregate','Age']]\n",
    "\n",
    "X.head()"
   ]
  },
  {
   "cell_type": "code",
   "execution_count": 42,
   "id": "94e56754",
   "metadata": {},
   "outputs": [
    {
     "data": {
      "text/html": [
       "<div>\n",
       "<style scoped>\n",
       "    .dataframe tbody tr th:only-of-type {\n",
       "        vertical-align: middle;\n",
       "    }\n",
       "\n",
       "    .dataframe tbody tr th {\n",
       "        vertical-align: top;\n",
       "    }\n",
       "\n",
       "    .dataframe thead th {\n",
       "        text-align: right;\n",
       "    }\n",
       "</style>\n",
       "<table border=\"1\" class=\"dataframe\">\n",
       "  <thead>\n",
       "    <tr style=\"text-align: right;\">\n",
       "      <th></th>\n",
       "      <th>Strength</th>\n",
       "    </tr>\n",
       "  </thead>\n",
       "  <tbody>\n",
       "    <tr>\n",
       "      <th>0</th>\n",
       "      <td>79.99</td>\n",
       "    </tr>\n",
       "    <tr>\n",
       "      <th>1</th>\n",
       "      <td>61.89</td>\n",
       "    </tr>\n",
       "    <tr>\n",
       "      <th>2</th>\n",
       "      <td>40.27</td>\n",
       "    </tr>\n",
       "    <tr>\n",
       "      <th>3</th>\n",
       "      <td>41.05</td>\n",
       "    </tr>\n",
       "    <tr>\n",
       "      <th>4</th>\n",
       "      <td>44.30</td>\n",
       "    </tr>\n",
       "  </tbody>\n",
       "</table>\n",
       "</div>"
      ],
      "text/plain": [
       "   Strength\n",
       "0     79.99\n",
       "1     61.89\n",
       "2     40.27\n",
       "3     41.05\n",
       "4     44.30"
      ]
     },
     "execution_count": 42,
     "metadata": {},
     "output_type": "execute_result"
    }
   ],
   "source": [
    "y = data[['Strength']]\n",
    "y.head()"
   ]
  },
  {
   "cell_type": "markdown",
   "id": "6173c520",
   "metadata": {},
   "source": [
    "### Lets convert both, X and y into arrays"
   ]
  },
  {
   "cell_type": "code",
   "execution_count": 43,
   "id": "d722435c",
   "metadata": {},
   "outputs": [
    {
     "data": {
      "text/plain": [
       "array([[ 540. ,    0. ,    0. , ..., 1040. ,  676. ,   28. ],\n",
       "       [ 540. ,    0. ,    0. , ..., 1055. ,  676. ,   28. ],\n",
       "       [ 332.5,  142.5,    0. , ...,  932. ,  594. ,  270. ],\n",
       "       ...,\n",
       "       [ 148.5,  139.4,  108.6, ...,  892.4,  780. ,   28. ],\n",
       "       [ 159.1,  186.7,    0. , ...,  989.6,  788.9,   28. ],\n",
       "       [ 260.9,  100.5,   78.3, ...,  864.5,  761.5,   28. ]])"
      ]
     },
     "execution_count": 43,
     "metadata": {},
     "output_type": "execute_result"
    }
   ],
   "source": [
    "X = X.values\n",
    "X"
   ]
  },
  {
   "cell_type": "code",
   "execution_count": 44,
   "id": "aaedeff8",
   "metadata": {},
   "outputs": [
    {
     "data": {
      "text/plain": [
       "array([[79.99],\n",
       "       [61.89],\n",
       "       [40.27],\n",
       "       ...,\n",
       "       [23.7 ],\n",
       "       [32.77],\n",
       "       [32.4 ]])"
      ]
     },
     "execution_count": 44,
     "metadata": {},
     "output_type": "execute_result"
    }
   ],
   "source": [
    "y = y.values\n",
    "y"
   ]
  },
  {
   "cell_type": "markdown",
   "id": "a718ca6e",
   "metadata": {},
   "source": [
    "### Now that we have both, the target and predictor variabels, lets move onto splitting our dataset.\n"
   ]
  },
  {
   "cell_type": "code",
   "execution_count": 45,
   "id": "465ed22b",
   "metadata": {},
   "outputs": [
    {
     "name": "stdout",
     "output_type": "stream",
     "text": [
      "Train Set = (721, 8),(721, 1)\n",
      "Test Set = (309, 8),(309, 1)\n"
     ]
    }
   ],
   "source": [
    "from sklearn import preprocessing\n",
    "from sklearn.model_selection import train_test_split\n",
    "\n",
    "X_train, X_test, y_train, y_test = train_test_split( X, y, test_size=0.3, random_state=42)\n",
    "print(f\"Train Set = {X_train.shape},{y_train.shape}\")\n",
    "print(f\"Test Set = {X_test.shape},{y_test.shape}\")"
   ]
  },
  {
   "cell_type": "markdown",
   "id": "f0323d4f",
   "metadata": {},
   "source": [
    "30% of the dataset has been reserved for testing as per the instructions"
   ]
  },
  {
   "cell_type": "markdown",
   "id": "0f8ac532",
   "metadata": {},
   "source": [
    "### Lets import some important libraries for building our model"
   ]
  },
  {
   "cell_type": "code",
   "execution_count": 46,
   "id": "d37d4ac9",
   "metadata": {},
   "outputs": [],
   "source": [
    "import tensorflow\n",
    "\n",
    "from tensorflow.keras.models import Sequential\n",
    "from tensorflow.keras.layers import Dense\n",
    "from tensorflow.keras.utils import to_categorical"
   ]
  },
  {
   "cell_type": "code",
   "execution_count": 47,
   "id": "5cbb97a3",
   "metadata": {},
   "outputs": [
    {
     "name": "stdout",
     "output_type": "stream",
     "text": [
      "8\n"
     ]
    }
   ],
   "source": [
    "#lets define n_cols to be the size of the number of variables in X\n",
    "n_cols = X_test.shape[1]\n",
    "print(n_cols)"
   ]
  },
  {
   "cell_type": "markdown",
   "id": "4ec64726",
   "metadata": {},
   "source": [
    "#### Therefore, we will have 8 nodes in the input layer of the ANN."
   ]
  },
  {
   "cell_type": "code",
   "execution_count": 48,
   "id": "8fe960e3",
   "metadata": {},
   "outputs": [],
   "source": [
    "#lets create our model\n",
    "def regression_model():\n",
    "    # create the model\n",
    "    model = tensorflow.keras.Sequential()\n",
    "    model.add(Dense(10, activation='relu', input_shape=(n_cols,)))\n",
    "    model.add(Dense(1))\n",
    "    \n",
    "    # compile thye model\n",
    "    model.compile(optimizer='adam', loss='mean_squared_error')\n",
    "    return model\n"
   ]
  },
  {
   "cell_type": "markdown",
   "id": "f78ed871",
   "metadata": {},
   "source": [
    "The above function creates a model that has one hidden layer with 10 neurons and uses ReLU activation function. It uses the adam optimizer and the mean squared error as the loss function, as per instructions."
   ]
  },
  {
   "cell_type": "code",
   "execution_count": 49,
   "id": "734400d1",
   "metadata": {},
   "outputs": [],
   "source": [
    "#lets build the model\n",
    "model = regression_model()"
   ]
  },
  {
   "cell_type": "markdown",
   "id": "a0ad4755",
   "metadata": {},
   "source": [
    "Lets train the model with 50 epochs"
   ]
  },
  {
   "cell_type": "code",
   "execution_count": 50,
   "id": "b8c46f96",
   "metadata": {},
   "outputs": [
    {
     "name": "stdout",
     "output_type": "stream",
     "text": [
      "Train on 721 samples\n",
      "Epoch 1/50\n",
      "721/721 [==============================] - 0s 594us/sample - loss: 88900.4956\n",
      "Epoch 2/50\n",
      "721/721 [==============================] - 0s 27us/sample - loss: 48172.3484\n",
      "Epoch 3/50\n",
      "721/721 [==============================] - 0s 25us/sample - loss: 17626.7839\n",
      "Epoch 4/50\n",
      "721/721 [==============================] - 0s 26us/sample - loss: 7361.5979\n",
      "Epoch 5/50\n",
      "721/721 [==============================] - 0s 25us/sample - loss: 6345.2397\n",
      "Epoch 6/50\n",
      "721/721 [==============================] - 0s 26us/sample - loss: 5582.0612\n",
      "Epoch 7/50\n",
      "721/721 [==============================] - 0s 26us/sample - loss: 4966.3845\n",
      "Epoch 8/50\n",
      "721/721 [==============================] - 0s 25us/sample - loss: 4434.2077\n",
      "Epoch 9/50\n",
      "721/721 [==============================] - 0s 25us/sample - loss: 3961.2333\n",
      "Epoch 10/50\n",
      "721/721 [==============================] - 0s 23us/sample - loss: 3557.7677\n",
      "Epoch 11/50\n",
      "721/721 [==============================] - 0s 23us/sample - loss: 3189.6398\n",
      "Epoch 12/50\n",
      "721/721 [==============================] - 0s 23us/sample - loss: 2864.1162\n",
      "Epoch 13/50\n",
      "721/721 [==============================] - 0s 24us/sample - loss: 2583.3437\n",
      "Epoch 14/50\n",
      "721/721 [==============================] - 0s 25us/sample - loss: 2318.3255\n",
      "Epoch 15/50\n",
      "721/721 [==============================] - 0s 26us/sample - loss: 2092.2503\n",
      "Epoch 16/50\n",
      "721/721 [==============================] - 0s 24us/sample - loss: 1893.7931\n",
      "Epoch 17/50\n",
      "721/721 [==============================] - 0s 24us/sample - loss: 1719.9894\n",
      "Epoch 18/50\n",
      "721/721 [==============================] - 0s 23us/sample - loss: 1550.5409\n",
      "Epoch 19/50\n",
      "721/721 [==============================] - 0s 24us/sample - loss: 1410.8457\n",
      "Epoch 20/50\n",
      "721/721 [==============================] - 0s 24us/sample - loss: 1279.4643\n",
      "Epoch 21/50\n",
      "721/721 [==============================] - 0s 24us/sample - loss: 1162.5236\n",
      "Epoch 22/50\n",
      "721/721 [==============================] - 0s 25us/sample - loss: 1057.4486\n",
      "Epoch 23/50\n",
      "721/721 [==============================] - 0s 24us/sample - loss: 959.5301\n",
      "Epoch 24/50\n",
      "721/721 [==============================] - 0s 25us/sample - loss: 874.5203\n",
      "Epoch 25/50\n",
      "721/721 [==============================] - 0s 25us/sample - loss: 793.0760\n",
      "Epoch 26/50\n",
      "721/721 [==============================] - 0s 26us/sample - loss: 725.2321\n",
      "Epoch 27/50\n",
      "721/721 [==============================] - 0s 25us/sample - loss: 660.5700\n",
      "Epoch 28/50\n",
      "721/721 [==============================] - 0s 25us/sample - loss: 601.6589\n",
      "Epoch 29/50\n",
      "721/721 [==============================] - 0s 25us/sample - loss: 550.3578\n",
      "Epoch 30/50\n",
      "721/721 [==============================] - 0s 24us/sample - loss: 502.7810\n",
      "Epoch 31/50\n",
      "721/721 [==============================] - 0s 24us/sample - loss: 462.0167\n",
      "Epoch 32/50\n",
      "721/721 [==============================] - 0s 26us/sample - loss: 424.9684\n",
      "Epoch 33/50\n",
      "721/721 [==============================] - 0s 25us/sample - loss: 390.3627\n",
      "Epoch 34/50\n",
      "721/721 [==============================] - 0s 24us/sample - loss: 361.7497\n",
      "Epoch 35/50\n",
      "721/721 [==============================] - 0s 27us/sample - loss: 335.2186\n",
      "Epoch 36/50\n",
      "721/721 [==============================] - 0s 24us/sample - loss: 310.8225\n",
      "Epoch 37/50\n",
      "721/721 [==============================] - 0s 25us/sample - loss: 289.5677\n",
      "Epoch 38/50\n",
      "721/721 [==============================] - 0s 27us/sample - loss: 271.5949\n",
      "Epoch 39/50\n",
      "721/721 [==============================] - 0s 26us/sample - loss: 255.8218\n",
      "Epoch 40/50\n",
      "721/721 [==============================] - 0s 26us/sample - loss: 239.0239\n",
      "Epoch 41/50\n",
      "721/721 [==============================] - 0s 26us/sample - loss: 225.2609\n",
      "Epoch 42/50\n",
      "721/721 [==============================] - 0s 27us/sample - loss: 213.0116\n",
      "Epoch 43/50\n",
      "721/721 [==============================] - 0s 24us/sample - loss: 203.1165\n",
      "Epoch 44/50\n",
      "721/721 [==============================] - 0s 26us/sample - loss: 193.6854\n",
      "Epoch 45/50\n",
      "721/721 [==============================] - 0s 25us/sample - loss: 184.8700\n",
      "Epoch 46/50\n",
      "721/721 [==============================] - 0s 25us/sample - loss: 176.5204\n",
      "Epoch 47/50\n",
      "721/721 [==============================] - 0s 25us/sample - loss: 170.0190\n",
      "Epoch 48/50\n",
      "721/721 [==============================] - 0s 25us/sample - loss: 164.5647\n",
      "Epoch 49/50\n",
      "721/721 [==============================] - 0s 25us/sample - loss: 159.0711\n",
      "Epoch 50/50\n",
      "721/721 [==============================] - 0s 23us/sample - loss: 154.5471\n"
     ]
    },
    {
     "data": {
      "text/plain": [
       "<tensorflow.python.keras.callbacks.History at 0x7faf3facf450>"
      ]
     },
     "execution_count": 50,
     "metadata": {},
     "output_type": "execute_result"
    }
   ],
   "source": [
    "# fit the model\n",
    "epochs = 50\n",
    "model.fit(X_train, y_train, epochs=epochs, verbose=1)"
   ]
  },
  {
   "cell_type": "code",
   "execution_count": 51,
   "id": "16126295",
   "metadata": {},
   "outputs": [
    {
     "data": {
      "text/plain": [
       "151.3155773125806"
      ]
     },
     "execution_count": 51,
     "metadata": {},
     "output_type": "execute_result"
    }
   ],
   "source": [
    "#Lets evaluate the model now:\n",
    "\n",
    "loss_ = model.evaluate(X_test, y_test, verbose  =0)\n",
    "y_pred = model.predict(X_test)\n",
    "loss_\n",
    "\n"
   ]
  },
  {
   "cell_type": "markdown",
   "id": "1272b8de",
   "metadata": {},
   "source": [
    "\n",
    "\n",
    "Now we need to compute the mean squared error between the predicted concrete strength and the actual concrete strength.\n",
    "\n",
    "Let's import the mean_squared_error function from Scikit-learn.\n",
    "\n"
   ]
  },
  {
   "cell_type": "code",
   "execution_count": 52,
   "id": "d270776c",
   "metadata": {},
   "outputs": [],
   "source": [
    "from sklearn.metrics import mean_squared_error"
   ]
  },
  {
   "cell_type": "code",
   "execution_count": 53,
   "id": "fafb5f7b",
   "metadata": {},
   "outputs": [
    {
     "name": "stdout",
     "output_type": "stream",
     "text": [
      "Mean of MSE = 151.31558038069792\n",
      "Standard Deviation of MSE = 0.0\n"
     ]
    }
   ],
   "source": [
    "mean_square_error = mean_squared_error(y_test, y_pred)\n",
    "mean = np.mean(mean_square_error)\n",
    "standard_deviation = np.std(mean_square_error)\n",
    "print(f\"Mean of MSE = {mean}\")\n",
    "print(f\"Standard Deviation of MSE = {standard_deviation}\")"
   ]
  },
  {
   "cell_type": "markdown",
   "id": "79301e30",
   "metadata": {},
   "source": [
    "### Now, we will repeat steps 1 - 3, 50 times, i.e., create a list of 50 mean squared errors and calculate the mean and Standard deviation of the list."
   ]
  },
  {
   "cell_type": "code",
   "execution_count": 54,
   "id": "33c81757",
   "metadata": {},
   "outputs": [
    {
     "name": "stdout",
     "output_type": "stream",
     "text": [
      " 1: MSE = 393.0620283108313\n",
      " 2: MSE = 146.54383326656995\n",
      " 3: MSE = 110.63551639198872\n",
      " 4: MSE = 108.09608681688032\n",
      " 5: MSE = 109.26204002405062\n",
      " 6: MSE = 110.51688059093883\n",
      " 7: MSE = 113.00702156140966\n",
      " 8: MSE = 108.92978678089129\n",
      " 9: MSE = 110.5800561750591\n",
      " 10: MSE = 108.46591053194213\n",
      " 11: MSE = 108.38249512706373\n",
      " 12: MSE = 108.19451931456531\n",
      " 13: MSE = 108.76265183235834\n",
      " 14: MSE = 109.28072692969856\n",
      " 15: MSE = 108.75264379507516\n",
      " 16: MSE = 118.00767973865892\n",
      " 17: MSE = 109.44109243250973\n",
      " 18: MSE = 109.81839263323441\n",
      " 19: MSE = 114.40316172479426\n",
      " 20: MSE = 107.93408538917122\n",
      " 21: MSE = 106.81830275946065\n",
      " 22: MSE = 111.54775492350261\n",
      " 23: MSE = 106.67421532294512\n",
      " 24: MSE = 107.03749183235045\n",
      " 25: MSE = 107.81180456463959\n",
      " 26: MSE = 107.28254440455761\n",
      " 27: MSE = 109.022875542008\n",
      " 28: MSE = 106.92063247038709\n",
      " 29: MSE = 108.96980088119754\n",
      " 30: MSE = 106.08166392798563\n",
      " 31: MSE = 113.14672293555003\n",
      " 32: MSE = 107.41609789406984\n",
      " 33: MSE = 110.76961638317911\n",
      " 34: MSE = 108.94810905579996\n",
      " 35: MSE = 106.90135874331577\n",
      " 36: MSE = 111.69538064604824\n",
      " 37: MSE = 107.32505608222246\n",
      " 38: MSE = 117.78107324001473\n",
      " 39: MSE = 106.91079077365714\n",
      " 40: MSE = 124.3309730850763\n",
      " 41: MSE = 107.53139688436268\n",
      " 42: MSE = 106.57030778409593\n",
      " 43: MSE = 108.60116411721437\n",
      " 44: MSE = 107.6908977224603\n",
      " 45: MSE = 107.06464837824257\n",
      " 46: MSE = 109.4457594738809\n",
      " 47: MSE = 106.70670488968636\n",
      " 48: MSE = 107.77843332136334\n",
      " 49: MSE = 109.34502146699282\n",
      " 50: MSE = 106.87531584211924\n",
      "Mean of all 50 Mean squared error values = 115.86157194804495\n",
      "Standard Deviation of all 50 Mean squared error values = 40.07537429387559\n"
     ]
    }
   ],
   "source": [
    "z =1 #for indexing \n",
    "mse_list_50 = [] #empty list for the 50 values \n",
    "model = regression_model()\n",
    "epochs = 50\n",
    "for x in range(50):\n",
    "    \n",
    "    X_train, X_test, y_train, y_test = train_test_split( X, y, test_size=0.3, random_state=42)\n",
    "    model.fit(X_train, y_train, epochs=epochs, verbose=0)\n",
    "    loss_1 = model.evaluate(X_test, y_test, verbose  =0)\n",
    "    print(f\" {z}: MSE = {loss_1}\")\n",
    "    y_pred1 = model.predict(X_test)\n",
    "    mean_square_error = mean_squared_error(y_test, y_pred1)\n",
    "    mse_list_50.append(mean_square_error)\n",
    "    z += 1\n",
    "    \n",
    "#lets convert the list mse_list_50 into array before we calculate the mean and the standard deviation of the mean squared errors.\n",
    "mse_array_50 = np.array(mse_list_50)\n",
    "mse_array_50_mean = np.mean(mse_array_50)\n",
    "mse_array_50_std = np.std(mse_array_50)\n",
    "print(f\"Mean of all 50 Mean squared error values = {mse_array_50_mean}\")\n",
    "print(f\"Standard Deviation of all 50 Mean squared error values = {mse_array_50_std}\")"
   ]
  },
  {
   "cell_type": "code",
   "execution_count": 55,
   "id": "a182ce1c",
   "metadata": {},
   "outputs": [
    {
     "data": {
      "text/plain": [
       "[393.06202657047317,\n",
       " 146.54383939693764,\n",
       " 110.63552042850878,\n",
       " 108.09608892056339,\n",
       " 109.26204311192639,\n",
       " 110.51688241801976,\n",
       " 113.00702128836211,\n",
       " 108.92979098104176,\n",
       " 110.58005693258667,\n",
       " 108.46591384518227,\n",
       " 108.38249646422054,\n",
       " 108.19452395290452,\n",
       " 108.76265431045226,\n",
       " 109.28072359001362,\n",
       " 108.75264260994138,\n",
       " 118.00767910656869,\n",
       " 109.44109610458231,\n",
       " 109.8183928928208,\n",
       " 114.40316443692173,\n",
       " 107.9340851118793,\n",
       " 106.81830471171722,\n",
       " 111.54775827001008,\n",
       " 106.67421606021996,\n",
       " 107.03749552133158,\n",
       " 107.8118039128104,\n",
       " 107.2825421999724,\n",
       " 109.02288002452134,\n",
       " 106.9206325683592,\n",
       " 108.96979918877763,\n",
       " 106.08166515307482,\n",
       " 113.1467234546087,\n",
       " 107.416098568517,\n",
       " 110.76961940951553,\n",
       " 108.9481087099542,\n",
       " 106.90136021757647,\n",
       " 111.69538271228679,\n",
       " 107.32505723600616,\n",
       " 117.78107511399115,\n",
       " 106.91079480679562,\n",
       " 124.33097549565112,\n",
       " 107.53140029927042,\n",
       " 106.57030983504063,\n",
       " 108.60116580228315,\n",
       " 107.69089991029679,\n",
       " 107.06464884212451,\n",
       " 109.44576187025213,\n",
       " 106.70670211463471,\n",
       " 107.77843309534894,\n",
       " 109.34502407080306,\n",
       " 106.8753157525879]"
      ]
     },
     "execution_count": 55,
     "metadata": {},
     "output_type": "execute_result"
    }
   ],
   "source": [
    "#a look at the list of 50 mean squared errors\n",
    "mse_list_50"
   ]
  },
  {
   "cell_type": "code",
   "execution_count": null,
   "id": "d9699fe0",
   "metadata": {},
   "outputs": [],
   "source": []
  },
  {
   "cell_type": "code",
   "execution_count": null,
   "id": "aaffc2ae",
   "metadata": {},
   "outputs": [],
   "source": []
  },
  {
   "cell_type": "code",
   "execution_count": null,
   "id": "ae77ca9e",
   "metadata": {},
   "outputs": [],
   "source": []
  },
  {
   "cell_type": "code",
   "execution_count": null,
   "id": "5429110f",
   "metadata": {},
   "outputs": [],
   "source": []
  }
 ],
 "metadata": {
  "kernelspec": {
   "display_name": "Python 3 (ipykernel)",
   "language": "python",
   "name": "python3"
  },
  "language_info": {
   "codemirror_mode": {
    "name": "ipython",
    "version": 3
   },
   "file_extension": ".py",
   "mimetype": "text/x-python",
   "name": "python",
   "nbconvert_exporter": "python",
   "pygments_lexer": "ipython3",
   "version": "3.7.13"
  }
 },
 "nbformat": 4,
 "nbformat_minor": 5
}
