{
 "cells": [
  {
   "cell_type": "markdown",
   "id": "8395554e",
   "metadata": {},
   "source": [
    "# D. Increase the number of hidden layers (5 marks)\n",
    "\n",
    "Repeat part B but use a neural network with the following instead:\n",
    "\n",
    "- Three hidden layers, each of 10 nodes and ReLU activation function.\n",
    "\n",
    "How does the mean of the mean squared errors compare to that from Step B?"
   ]
  },
  {
   "cell_type": "markdown",
   "id": "c044e4c3",
   "metadata": {},
   "source": [
    "# Regression model using Keras (Data normalized + 3 hidden layers )"
   ]
  },
  {
   "cell_type": "markdown",
   "id": "56d80f0d",
   "metadata": {},
   "source": [
    "Lets import numpy and pandas to help us load and analyze data"
   ]
  },
  {
   "cell_type": "code",
   "execution_count": 1,
   "id": "45bdda92",
   "metadata": {},
   "outputs": [],
   "source": [
    "import numpy as np\n",
    "import pandas as pd"
   ]
  },
  {
   "cell_type": "code",
   "execution_count": 2,
   "id": "c0193a39",
   "metadata": {},
   "outputs": [
    {
     "data": {
      "text/html": [
       "<div>\n",
       "<style scoped>\n",
       "    .dataframe tbody tr th:only-of-type {\n",
       "        vertical-align: middle;\n",
       "    }\n",
       "\n",
       "    .dataframe tbody tr th {\n",
       "        vertical-align: top;\n",
       "    }\n",
       "\n",
       "    .dataframe thead th {\n",
       "        text-align: right;\n",
       "    }\n",
       "</style>\n",
       "<table border=\"1\" class=\"dataframe\">\n",
       "  <thead>\n",
       "    <tr style=\"text-align: right;\">\n",
       "      <th></th>\n",
       "      <th>Cement</th>\n",
       "      <th>Blast Furnace Slag</th>\n",
       "      <th>Fly Ash</th>\n",
       "      <th>Water</th>\n",
       "      <th>Superplasticizer</th>\n",
       "      <th>Coarse Aggregate</th>\n",
       "      <th>Fine Aggregate</th>\n",
       "      <th>Age</th>\n",
       "      <th>Strength</th>\n",
       "    </tr>\n",
       "  </thead>\n",
       "  <tbody>\n",
       "    <tr>\n",
       "      <th>0</th>\n",
       "      <td>540.0</td>\n",
       "      <td>0.0</td>\n",
       "      <td>0.0</td>\n",
       "      <td>162.0</td>\n",
       "      <td>2.5</td>\n",
       "      <td>1040.0</td>\n",
       "      <td>676.0</td>\n",
       "      <td>28</td>\n",
       "      <td>79.99</td>\n",
       "    </tr>\n",
       "    <tr>\n",
       "      <th>1</th>\n",
       "      <td>540.0</td>\n",
       "      <td>0.0</td>\n",
       "      <td>0.0</td>\n",
       "      <td>162.0</td>\n",
       "      <td>2.5</td>\n",
       "      <td>1055.0</td>\n",
       "      <td>676.0</td>\n",
       "      <td>28</td>\n",
       "      <td>61.89</td>\n",
       "    </tr>\n",
       "    <tr>\n",
       "      <th>2</th>\n",
       "      <td>332.5</td>\n",
       "      <td>142.5</td>\n",
       "      <td>0.0</td>\n",
       "      <td>228.0</td>\n",
       "      <td>0.0</td>\n",
       "      <td>932.0</td>\n",
       "      <td>594.0</td>\n",
       "      <td>270</td>\n",
       "      <td>40.27</td>\n",
       "    </tr>\n",
       "    <tr>\n",
       "      <th>3</th>\n",
       "      <td>332.5</td>\n",
       "      <td>142.5</td>\n",
       "      <td>0.0</td>\n",
       "      <td>228.0</td>\n",
       "      <td>0.0</td>\n",
       "      <td>932.0</td>\n",
       "      <td>594.0</td>\n",
       "      <td>365</td>\n",
       "      <td>41.05</td>\n",
       "    </tr>\n",
       "    <tr>\n",
       "      <th>4</th>\n",
       "      <td>198.6</td>\n",
       "      <td>132.4</td>\n",
       "      <td>0.0</td>\n",
       "      <td>192.0</td>\n",
       "      <td>0.0</td>\n",
       "      <td>978.4</td>\n",
       "      <td>825.5</td>\n",
       "      <td>360</td>\n",
       "      <td>44.30</td>\n",
       "    </tr>\n",
       "  </tbody>\n",
       "</table>\n",
       "</div>"
      ],
      "text/plain": [
       "   Cement  Blast Furnace Slag  Fly Ash  Water  Superplasticizer  \\\n",
       "0   540.0                 0.0      0.0  162.0               2.5   \n",
       "1   540.0                 0.0      0.0  162.0               2.5   \n",
       "2   332.5               142.5      0.0  228.0               0.0   \n",
       "3   332.5               142.5      0.0  228.0               0.0   \n",
       "4   198.6               132.4      0.0  192.0               0.0   \n",
       "\n",
       "   Coarse Aggregate  Fine Aggregate  Age  Strength  \n",
       "0            1040.0           676.0   28     79.99  \n",
       "1            1055.0           676.0   28     61.89  \n",
       "2             932.0           594.0  270     40.27  \n",
       "3             932.0           594.0  365     41.05  \n",
       "4             978.4           825.5  360     44.30  "
      ]
     },
     "execution_count": 2,
     "metadata": {},
     "output_type": "execute_result"
    }
   ],
   "source": [
    "#lets load the data, and take a look at the data using .head()\n",
    "data = pd.read_csv(\"concrete_data.csv\")\n",
    "data.head()\n"
   ]
  },
  {
   "cell_type": "code",
   "execution_count": 3,
   "id": "abd20514",
   "metadata": {},
   "outputs": [
    {
     "data": {
      "text/plain": [
       "(1030, 9)"
      ]
     },
     "execution_count": 3,
     "metadata": {},
     "output_type": "execute_result"
    }
   ],
   "source": [
    "#lets print the shape of the data (i.e. number of rows and columns)\n",
    "data.shape"
   ]
  },
  {
   "cell_type": "markdown",
   "id": "394d0bc9",
   "metadata": {},
   "source": [
    "Therefore, our dataset has 1030 rows and only 9 columns.\n",
    "Lets take a look at the data for any missing values before we start building the model using the data."
   ]
  },
  {
   "cell_type": "code",
   "execution_count": 4,
   "id": "f48e13bd",
   "metadata": {},
   "outputs": [
    {
     "data": {
      "text/html": [
       "<div>\n",
       "<style scoped>\n",
       "    .dataframe tbody tr th:only-of-type {\n",
       "        vertical-align: middle;\n",
       "    }\n",
       "\n",
       "    .dataframe tbody tr th {\n",
       "        vertical-align: top;\n",
       "    }\n",
       "\n",
       "    .dataframe thead th {\n",
       "        text-align: right;\n",
       "    }\n",
       "</style>\n",
       "<table border=\"1\" class=\"dataframe\">\n",
       "  <thead>\n",
       "    <tr style=\"text-align: right;\">\n",
       "      <th></th>\n",
       "      <th>Cement</th>\n",
       "      <th>Blast Furnace Slag</th>\n",
       "      <th>Fly Ash</th>\n",
       "      <th>Water</th>\n",
       "      <th>Superplasticizer</th>\n",
       "      <th>Coarse Aggregate</th>\n",
       "      <th>Fine Aggregate</th>\n",
       "      <th>Age</th>\n",
       "      <th>Strength</th>\n",
       "    </tr>\n",
       "  </thead>\n",
       "  <tbody>\n",
       "    <tr>\n",
       "      <th>count</th>\n",
       "      <td>1030.000000</td>\n",
       "      <td>1030.000000</td>\n",
       "      <td>1030.000000</td>\n",
       "      <td>1030.000000</td>\n",
       "      <td>1030.000000</td>\n",
       "      <td>1030.000000</td>\n",
       "      <td>1030.000000</td>\n",
       "      <td>1030.000000</td>\n",
       "      <td>1030.000000</td>\n",
       "    </tr>\n",
       "    <tr>\n",
       "      <th>mean</th>\n",
       "      <td>281.167864</td>\n",
       "      <td>73.895825</td>\n",
       "      <td>54.188350</td>\n",
       "      <td>181.567282</td>\n",
       "      <td>6.204660</td>\n",
       "      <td>972.918932</td>\n",
       "      <td>773.580485</td>\n",
       "      <td>45.662136</td>\n",
       "      <td>35.817961</td>\n",
       "    </tr>\n",
       "    <tr>\n",
       "      <th>std</th>\n",
       "      <td>104.506364</td>\n",
       "      <td>86.279342</td>\n",
       "      <td>63.997004</td>\n",
       "      <td>21.354219</td>\n",
       "      <td>5.973841</td>\n",
       "      <td>77.753954</td>\n",
       "      <td>80.175980</td>\n",
       "      <td>63.169912</td>\n",
       "      <td>16.705742</td>\n",
       "    </tr>\n",
       "    <tr>\n",
       "      <th>min</th>\n",
       "      <td>102.000000</td>\n",
       "      <td>0.000000</td>\n",
       "      <td>0.000000</td>\n",
       "      <td>121.800000</td>\n",
       "      <td>0.000000</td>\n",
       "      <td>801.000000</td>\n",
       "      <td>594.000000</td>\n",
       "      <td>1.000000</td>\n",
       "      <td>2.330000</td>\n",
       "    </tr>\n",
       "    <tr>\n",
       "      <th>25%</th>\n",
       "      <td>192.375000</td>\n",
       "      <td>0.000000</td>\n",
       "      <td>0.000000</td>\n",
       "      <td>164.900000</td>\n",
       "      <td>0.000000</td>\n",
       "      <td>932.000000</td>\n",
       "      <td>730.950000</td>\n",
       "      <td>7.000000</td>\n",
       "      <td>23.710000</td>\n",
       "    </tr>\n",
       "    <tr>\n",
       "      <th>50%</th>\n",
       "      <td>272.900000</td>\n",
       "      <td>22.000000</td>\n",
       "      <td>0.000000</td>\n",
       "      <td>185.000000</td>\n",
       "      <td>6.400000</td>\n",
       "      <td>968.000000</td>\n",
       "      <td>779.500000</td>\n",
       "      <td>28.000000</td>\n",
       "      <td>34.445000</td>\n",
       "    </tr>\n",
       "    <tr>\n",
       "      <th>75%</th>\n",
       "      <td>350.000000</td>\n",
       "      <td>142.950000</td>\n",
       "      <td>118.300000</td>\n",
       "      <td>192.000000</td>\n",
       "      <td>10.200000</td>\n",
       "      <td>1029.400000</td>\n",
       "      <td>824.000000</td>\n",
       "      <td>56.000000</td>\n",
       "      <td>46.135000</td>\n",
       "    </tr>\n",
       "    <tr>\n",
       "      <th>max</th>\n",
       "      <td>540.000000</td>\n",
       "      <td>359.400000</td>\n",
       "      <td>200.100000</td>\n",
       "      <td>247.000000</td>\n",
       "      <td>32.200000</td>\n",
       "      <td>1145.000000</td>\n",
       "      <td>992.600000</td>\n",
       "      <td>365.000000</td>\n",
       "      <td>82.600000</td>\n",
       "    </tr>\n",
       "  </tbody>\n",
       "</table>\n",
       "</div>"
      ],
      "text/plain": [
       "            Cement  Blast Furnace Slag      Fly Ash        Water  \\\n",
       "count  1030.000000         1030.000000  1030.000000  1030.000000   \n",
       "mean    281.167864           73.895825    54.188350   181.567282   \n",
       "std     104.506364           86.279342    63.997004    21.354219   \n",
       "min     102.000000            0.000000     0.000000   121.800000   \n",
       "25%     192.375000            0.000000     0.000000   164.900000   \n",
       "50%     272.900000           22.000000     0.000000   185.000000   \n",
       "75%     350.000000          142.950000   118.300000   192.000000   \n",
       "max     540.000000          359.400000   200.100000   247.000000   \n",
       "\n",
       "       Superplasticizer  Coarse Aggregate  Fine Aggregate          Age  \\\n",
       "count       1030.000000       1030.000000     1030.000000  1030.000000   \n",
       "mean           6.204660        972.918932      773.580485    45.662136   \n",
       "std            5.973841         77.753954       80.175980    63.169912   \n",
       "min            0.000000        801.000000      594.000000     1.000000   \n",
       "25%            0.000000        932.000000      730.950000     7.000000   \n",
       "50%            6.400000        968.000000      779.500000    28.000000   \n",
       "75%           10.200000       1029.400000      824.000000    56.000000   \n",
       "max           32.200000       1145.000000      992.600000   365.000000   \n",
       "\n",
       "          Strength  \n",
       "count  1030.000000  \n",
       "mean     35.817961  \n",
       "std      16.705742  \n",
       "min       2.330000  \n",
       "25%      23.710000  \n",
       "50%      34.445000  \n",
       "75%      46.135000  \n",
       "max      82.600000  "
      ]
     },
     "execution_count": 4,
     "metadata": {},
     "output_type": "execute_result"
    }
   ],
   "source": [
    "data.describe()\n"
   ]
  },
  {
   "cell_type": "code",
   "execution_count": 5,
   "id": "06911fcb",
   "metadata": {},
   "outputs": [
    {
     "data": {
      "text/plain": [
       "Cement                0\n",
       "Blast Furnace Slag    0\n",
       "Fly Ash               0\n",
       "Water                 0\n",
       "Superplasticizer      0\n",
       "Coarse Aggregate      0\n",
       "Fine Aggregate        0\n",
       "Age                   0\n",
       "Strength              0\n",
       "dtype: int64"
      ]
     },
     "execution_count": 5,
     "metadata": {},
     "output_type": "execute_result"
    }
   ],
   "source": [
    "data.isnull().sum()"
   ]
  },
  {
   "cell_type": "markdown",
   "id": "74e6d49e",
   "metadata": {},
   "source": [
    "The data looks good so far, therfore we can begin the next steps."
   ]
  },
  {
   "cell_type": "markdown",
   "id": "5ac2315a",
   "metadata": {},
   "source": [
    "Since, for the first part, we are not to normalioze the data, I will jump straight to splitting the dataset."
   ]
  },
  {
   "cell_type": "markdown",
   "id": "ed7b9a4a",
   "metadata": {},
   "source": [
    "### Lets divide our dataset into predictors (X) and target variable (y) (independent and dependent variable)"
   ]
  },
  {
   "cell_type": "code",
   "execution_count": 6,
   "id": "840a2fa3",
   "metadata": {},
   "outputs": [
    {
     "data": {
      "text/html": [
       "<div>\n",
       "<style scoped>\n",
       "    .dataframe tbody tr th:only-of-type {\n",
       "        vertical-align: middle;\n",
       "    }\n",
       "\n",
       "    .dataframe tbody tr th {\n",
       "        vertical-align: top;\n",
       "    }\n",
       "\n",
       "    .dataframe thead th {\n",
       "        text-align: right;\n",
       "    }\n",
       "</style>\n",
       "<table border=\"1\" class=\"dataframe\">\n",
       "  <thead>\n",
       "    <tr style=\"text-align: right;\">\n",
       "      <th></th>\n",
       "      <th>Cement</th>\n",
       "      <th>Blast Furnace Slag</th>\n",
       "      <th>Fly Ash</th>\n",
       "      <th>Water</th>\n",
       "      <th>Superplasticizer</th>\n",
       "      <th>Coarse Aggregate</th>\n",
       "      <th>Fine Aggregate</th>\n",
       "      <th>Age</th>\n",
       "    </tr>\n",
       "  </thead>\n",
       "  <tbody>\n",
       "    <tr>\n",
       "      <th>0</th>\n",
       "      <td>540.0</td>\n",
       "      <td>0.0</td>\n",
       "      <td>0.0</td>\n",
       "      <td>162.0</td>\n",
       "      <td>2.5</td>\n",
       "      <td>1040.0</td>\n",
       "      <td>676.0</td>\n",
       "      <td>28</td>\n",
       "    </tr>\n",
       "    <tr>\n",
       "      <th>1</th>\n",
       "      <td>540.0</td>\n",
       "      <td>0.0</td>\n",
       "      <td>0.0</td>\n",
       "      <td>162.0</td>\n",
       "      <td>2.5</td>\n",
       "      <td>1055.0</td>\n",
       "      <td>676.0</td>\n",
       "      <td>28</td>\n",
       "    </tr>\n",
       "    <tr>\n",
       "      <th>2</th>\n",
       "      <td>332.5</td>\n",
       "      <td>142.5</td>\n",
       "      <td>0.0</td>\n",
       "      <td>228.0</td>\n",
       "      <td>0.0</td>\n",
       "      <td>932.0</td>\n",
       "      <td>594.0</td>\n",
       "      <td>270</td>\n",
       "    </tr>\n",
       "    <tr>\n",
       "      <th>3</th>\n",
       "      <td>332.5</td>\n",
       "      <td>142.5</td>\n",
       "      <td>0.0</td>\n",
       "      <td>228.0</td>\n",
       "      <td>0.0</td>\n",
       "      <td>932.0</td>\n",
       "      <td>594.0</td>\n",
       "      <td>365</td>\n",
       "    </tr>\n",
       "    <tr>\n",
       "      <th>4</th>\n",
       "      <td>198.6</td>\n",
       "      <td>132.4</td>\n",
       "      <td>0.0</td>\n",
       "      <td>192.0</td>\n",
       "      <td>0.0</td>\n",
       "      <td>978.4</td>\n",
       "      <td>825.5</td>\n",
       "      <td>360</td>\n",
       "    </tr>\n",
       "  </tbody>\n",
       "</table>\n",
       "</div>"
      ],
      "text/plain": [
       "   Cement  Blast Furnace Slag  Fly Ash  Water  Superplasticizer  \\\n",
       "0   540.0                 0.0      0.0  162.0               2.5   \n",
       "1   540.0                 0.0      0.0  162.0               2.5   \n",
       "2   332.5               142.5      0.0  228.0               0.0   \n",
       "3   332.5               142.5      0.0  228.0               0.0   \n",
       "4   198.6               132.4      0.0  192.0               0.0   \n",
       "\n",
       "   Coarse Aggregate  Fine Aggregate  Age  \n",
       "0            1040.0           676.0   28  \n",
       "1            1055.0           676.0   28  \n",
       "2             932.0           594.0  270  \n",
       "3             932.0           594.0  365  \n",
       "4             978.4           825.5  360  "
      ]
     },
     "execution_count": 6,
     "metadata": {},
     "output_type": "execute_result"
    }
   ],
   "source": [
    "X = data[['Cement','Blast Furnace Slag','Fly Ash',\n",
    "                  'Water','Superplasticizer','Coarse Aggregate','Fine Aggregate','Age']]\n",
    "\n",
    "X.head()"
   ]
  },
  {
   "cell_type": "code",
   "execution_count": 7,
   "id": "94e56754",
   "metadata": {},
   "outputs": [
    {
     "data": {
      "text/html": [
       "<div>\n",
       "<style scoped>\n",
       "    .dataframe tbody tr th:only-of-type {\n",
       "        vertical-align: middle;\n",
       "    }\n",
       "\n",
       "    .dataframe tbody tr th {\n",
       "        vertical-align: top;\n",
       "    }\n",
       "\n",
       "    .dataframe thead th {\n",
       "        text-align: right;\n",
       "    }\n",
       "</style>\n",
       "<table border=\"1\" class=\"dataframe\">\n",
       "  <thead>\n",
       "    <tr style=\"text-align: right;\">\n",
       "      <th></th>\n",
       "      <th>Strength</th>\n",
       "    </tr>\n",
       "  </thead>\n",
       "  <tbody>\n",
       "    <tr>\n",
       "      <th>0</th>\n",
       "      <td>79.99</td>\n",
       "    </tr>\n",
       "    <tr>\n",
       "      <th>1</th>\n",
       "      <td>61.89</td>\n",
       "    </tr>\n",
       "    <tr>\n",
       "      <th>2</th>\n",
       "      <td>40.27</td>\n",
       "    </tr>\n",
       "    <tr>\n",
       "      <th>3</th>\n",
       "      <td>41.05</td>\n",
       "    </tr>\n",
       "    <tr>\n",
       "      <th>4</th>\n",
       "      <td>44.30</td>\n",
       "    </tr>\n",
       "  </tbody>\n",
       "</table>\n",
       "</div>"
      ],
      "text/plain": [
       "   Strength\n",
       "0     79.99\n",
       "1     61.89\n",
       "2     40.27\n",
       "3     41.05\n",
       "4     44.30"
      ]
     },
     "execution_count": 7,
     "metadata": {},
     "output_type": "execute_result"
    }
   ],
   "source": [
    "y = data[['Strength']]\n",
    "y.head()"
   ]
  },
  {
   "cell_type": "markdown",
   "id": "6173c520",
   "metadata": {},
   "source": [
    "### Lets convert both, X and y into arrays"
   ]
  },
  {
   "cell_type": "code",
   "execution_count": 8,
   "id": "d722435c",
   "metadata": {},
   "outputs": [
    {
     "data": {
      "text/plain": [
       "array([[ 540. ,    0. ,    0. , ..., 1040. ,  676. ,   28. ],\n",
       "       [ 540. ,    0. ,    0. , ..., 1055. ,  676. ,   28. ],\n",
       "       [ 332.5,  142.5,    0. , ...,  932. ,  594. ,  270. ],\n",
       "       ...,\n",
       "       [ 148.5,  139.4,  108.6, ...,  892.4,  780. ,   28. ],\n",
       "       [ 159.1,  186.7,    0. , ...,  989.6,  788.9,   28. ],\n",
       "       [ 260.9,  100.5,   78.3, ...,  864.5,  761.5,   28. ]])"
      ]
     },
     "execution_count": 8,
     "metadata": {},
     "output_type": "execute_result"
    }
   ],
   "source": [
    "X = X.values\n",
    "X"
   ]
  },
  {
   "cell_type": "code",
   "execution_count": 9,
   "id": "aaedeff8",
   "metadata": {},
   "outputs": [
    {
     "data": {
      "text/plain": [
       "array([[79.99],\n",
       "       [61.89],\n",
       "       [40.27],\n",
       "       ...,\n",
       "       [23.7 ],\n",
       "       [32.77],\n",
       "       [32.4 ]])"
      ]
     },
     "execution_count": 9,
     "metadata": {},
     "output_type": "execute_result"
    }
   ],
   "source": [
    "y = y.values\n",
    "y"
   ]
  },
  {
   "cell_type": "markdown",
   "id": "c546077d",
   "metadata": {},
   "source": [
    "## Lets Normalize the X (independent variables/predictors)"
   ]
  },
  {
   "cell_type": "code",
   "execution_count": 10,
   "id": "1a282383",
   "metadata": {},
   "outputs": [],
   "source": [
    "X_normalized = (X - X.mean()) / X.std() "
   ]
  },
  {
   "cell_type": "code",
   "execution_count": 11,
   "id": "89a675c0",
   "metadata": {},
   "outputs": [
    {
     "name": "stdout",
     "output_type": "stream",
     "text": [
      "(1030, 8)\n",
      "(1030, 8)\n"
     ]
    }
   ],
   "source": [
    "print(X_normalized.shape)\n",
    "print(X.shape)"
   ]
  },
  {
   "cell_type": "markdown",
   "id": "a718ca6e",
   "metadata": {},
   "source": [
    "### Now that we have both, the target and predictor variabels, lets move onto splitting our dataset.\n"
   ]
  },
  {
   "cell_type": "code",
   "execution_count": 12,
   "id": "465ed22b",
   "metadata": {},
   "outputs": [
    {
     "name": "stdout",
     "output_type": "stream",
     "text": [
      "Train Set = (721, 8),(721, 1)\n",
      "Test Set = (309, 8),(309, 1)\n"
     ]
    }
   ],
   "source": [
    "from sklearn import preprocessing\n",
    "from sklearn.model_selection import train_test_split\n",
    "\n",
    "X_train, X_test, y_train, y_test = train_test_split( X_normalized, y, test_size=0.3, random_state=42)\n",
    "print(f\"Train Set = {X_train.shape},{y_train.shape}\")\n",
    "print(f\"Test Set = {X_test.shape},{y_test.shape}\")"
   ]
  },
  {
   "cell_type": "markdown",
   "id": "f0323d4f",
   "metadata": {},
   "source": [
    "30% of the dataset has been reserved for testing as per the instructions"
   ]
  },
  {
   "cell_type": "markdown",
   "id": "0f8ac532",
   "metadata": {},
   "source": [
    "### Lets import some important libraries for building our model"
   ]
  },
  {
   "cell_type": "code",
   "execution_count": 13,
   "id": "d37d4ac9",
   "metadata": {},
   "outputs": [],
   "source": [
    "import tensorflow\n",
    "\n",
    "from tensorflow.keras.models import Sequential\n",
    "from tensorflow.keras.layers import Dense\n",
    "from tensorflow.keras.utils import to_categorical"
   ]
  },
  {
   "cell_type": "code",
   "execution_count": 14,
   "id": "5cbb97a3",
   "metadata": {},
   "outputs": [
    {
     "name": "stdout",
     "output_type": "stream",
     "text": [
      "8\n"
     ]
    }
   ],
   "source": [
    "#lets define n_cols to be the size of the number of variables in X\n",
    "n_cols = X_test.shape[1]\n",
    "print(n_cols)"
   ]
  },
  {
   "cell_type": "markdown",
   "id": "4ec64726",
   "metadata": {},
   "source": [
    "#### Therefore, we will have 8 nodes in the input layer of the ANN."
   ]
  },
  {
   "cell_type": "code",
   "execution_count": 15,
   "id": "8fe960e3",
   "metadata": {},
   "outputs": [],
   "source": [
    "#lets create our model\n",
    "def regression_model():\n",
    "    # create the model\n",
    "    model = tensorflow.keras.Sequential()\n",
    "    model.add(Dense(10, activation='relu', input_shape=(n_cols,))) #1st hidden layer + input layer\n",
    "    model.add(Dense(10, activation='relu')) #2nd hidden layer\n",
    "    model.add(Dense(10, activation='relu')) #3rd hidden layer\n",
    "    model.add(Dense(1))\n",
    "    \n",
    "    # compile thye model\n",
    "    model.compile(optimizer='adam', loss='mean_squared_error')\n",
    "    return model\n"
   ]
  },
  {
   "cell_type": "markdown",
   "id": "f78ed871",
   "metadata": {},
   "source": [
    "The above function creates a model that has three hidden layer with 10 neurons each and uses ReLU activation function. It uses the adam optimizer and the mean squared error as the loss function, as per instructions."
   ]
  },
  {
   "cell_type": "code",
   "execution_count": 29,
   "id": "734400d1",
   "metadata": {},
   "outputs": [],
   "source": [
    "#lets build the model\n",
    "model = regression_model()"
   ]
  },
  {
   "cell_type": "markdown",
   "id": "a0ad4755",
   "metadata": {},
   "source": [
    "Lets train the model with 50 epochs"
   ]
  },
  {
   "cell_type": "code",
   "execution_count": 17,
   "id": "b8c46f96",
   "metadata": {},
   "outputs": [
    {
     "name": "stdout",
     "output_type": "stream",
     "text": [
      "Train on 721 samples\n",
      "Epoch 1/50\n",
      "721/721 - 1s - loss: 1601.1199\n",
      "Epoch 2/50\n",
      "721/721 - 0s - loss: 1581.1002\n",
      "Epoch 3/50\n",
      "721/721 - 0s - loss: 1567.4009\n",
      "Epoch 4/50\n",
      "721/721 - 0s - loss: 1542.3460\n",
      "Epoch 5/50\n",
      "721/721 - 0s - loss: 1474.8556\n",
      "Epoch 6/50\n",
      "721/721 - 0s - loss: 1354.0929\n",
      "Epoch 7/50\n",
      "721/721 - 0s - loss: 1165.8063\n",
      "Epoch 8/50\n",
      "721/721 - 0s - loss: 884.4956\n",
      "Epoch 9/50\n",
      "721/721 - 0s - loss: 569.0681\n",
      "Epoch 10/50\n",
      "721/721 - 0s - loss: 355.8449\n",
      "Epoch 11/50\n",
      "721/721 - 0s - loss: 302.2430\n",
      "Epoch 12/50\n",
      "721/721 - 0s - loss: 295.2118\n",
      "Epoch 13/50\n",
      "721/721 - 0s - loss: 292.0628\n",
      "Epoch 14/50\n",
      "721/721 - 0s - loss: 289.0602\n",
      "Epoch 15/50\n",
      "721/721 - 0s - loss: 286.1294\n",
      "Epoch 16/50\n",
      "721/721 - 0s - loss: 283.4480\n",
      "Epoch 17/50\n",
      "721/721 - 0s - loss: 281.3639\n",
      "Epoch 18/50\n",
      "721/721 - 0s - loss: 278.9001\n",
      "Epoch 19/50\n",
      "721/721 - 0s - loss: 276.2429\n",
      "Epoch 20/50\n",
      "721/721 - 0s - loss: 273.7385\n",
      "Epoch 21/50\n",
      "721/721 - 0s - loss: 271.6688\n",
      "Epoch 22/50\n",
      "721/721 - 0s - loss: 269.0225\n",
      "Epoch 23/50\n",
      "721/721 - 0s - loss: 266.5991\n",
      "Epoch 24/50\n",
      "721/721 - 0s - loss: 265.2802\n",
      "Epoch 25/50\n",
      "721/721 - 0s - loss: 262.4053\n",
      "Epoch 26/50\n",
      "721/721 - 0s - loss: 259.6507\n",
      "Epoch 27/50\n",
      "721/721 - 0s - loss: 257.8465\n",
      "Epoch 28/50\n",
      "721/721 - 0s - loss: 255.8586\n",
      "Epoch 29/50\n",
      "721/721 - 0s - loss: 253.4171\n",
      "Epoch 30/50\n",
      "721/721 - 0s - loss: 251.7585\n",
      "Epoch 31/50\n",
      "721/721 - 0s - loss: 248.8502\n",
      "Epoch 32/50\n",
      "721/721 - 0s - loss: 246.9378\n",
      "Epoch 33/50\n",
      "721/721 - 0s - loss: 245.3293\n",
      "Epoch 34/50\n",
      "721/721 - 0s - loss: 242.8007\n",
      "Epoch 35/50\n",
      "721/721 - 0s - loss: 240.7304\n",
      "Epoch 36/50\n",
      "721/721 - 0s - loss: 238.6564\n",
      "Epoch 37/50\n",
      "721/721 - 0s - loss: 236.7992\n",
      "Epoch 38/50\n",
      "721/721 - 0s - loss: 234.7277\n",
      "Epoch 39/50\n",
      "721/721 - 0s - loss: 232.6554\n",
      "Epoch 40/50\n",
      "721/721 - 0s - loss: 230.8004\n",
      "Epoch 41/50\n",
      "721/721 - 0s - loss: 229.2374\n",
      "Epoch 42/50\n",
      "721/721 - 0s - loss: 226.9303\n",
      "Epoch 43/50\n",
      "721/721 - 0s - loss: 225.6382\n",
      "Epoch 44/50\n",
      "721/721 - 0s - loss: 223.5979\n",
      "Epoch 45/50\n",
      "721/721 - 0s - loss: 221.9343\n",
      "Epoch 46/50\n",
      "721/721 - 0s - loss: 220.0967\n",
      "Epoch 47/50\n",
      "721/721 - 0s - loss: 218.5645\n",
      "Epoch 48/50\n",
      "721/721 - 0s - loss: 216.9355\n",
      "Epoch 49/50\n",
      "721/721 - 0s - loss: 215.8593\n",
      "Epoch 50/50\n",
      "721/721 - 0s - loss: 214.1738\n"
     ]
    },
    {
     "data": {
      "text/plain": [
       "<tensorflow.python.keras.callbacks.History at 0x7fa470324990>"
      ]
     },
     "execution_count": 17,
     "metadata": {},
     "output_type": "execute_result"
    }
   ],
   "source": [
    "# fit the model\n",
    "epochs = 50\n",
    "model.fit(X_train, y_train, epochs=epochs, verbose=2)"
   ]
  },
  {
   "cell_type": "code",
   "execution_count": 18,
   "id": "16126295",
   "metadata": {},
   "outputs": [
    {
     "name": "stdout",
     "output_type": "stream",
     "text": [
      "309/1 - 0s - loss: 183.2762\n"
     ]
    },
    {
     "data": {
      "text/plain": [
       "210.6285982101095"
      ]
     },
     "execution_count": 18,
     "metadata": {},
     "output_type": "execute_result"
    }
   ],
   "source": [
    "#Lets evaluate the model now:\n",
    "\n",
    "loss_ = model.evaluate(X_test, y_test, verbose  =2)\n",
    "y_pred = model.predict(X_test)\n",
    "loss_\n",
    "\n"
   ]
  },
  {
   "cell_type": "markdown",
   "id": "1272b8de",
   "metadata": {},
   "source": [
    "\n",
    "\n",
    "Now we need to compute the mean squared error between the predicted concrete strength and the actual concrete strength.\n",
    "\n",
    "Let's import the mean_squared_error function from Scikit-learn.\n",
    "\n"
   ]
  },
  {
   "cell_type": "code",
   "execution_count": 19,
   "id": "d270776c",
   "metadata": {},
   "outputs": [],
   "source": [
    "from sklearn.metrics import mean_squared_error"
   ]
  },
  {
   "cell_type": "code",
   "execution_count": 20,
   "id": "fafb5f7b",
   "metadata": {},
   "outputs": [
    {
     "name": "stdout",
     "output_type": "stream",
     "text": [
      "Mean of MSE = 210.6286005296759\n",
      "Standard Deviation of MSE = 0.0\n"
     ]
    }
   ],
   "source": [
    "mean_square_error = mean_squared_error(y_test, y_pred)\n",
    "mean = np.mean(mean_square_error)\n",
    "standard_deviation = np.std(mean_square_error)\n",
    "print(f\"Mean of MSE = {mean}\")\n",
    "print(f\"Standard Deviation of MSE = {standard_deviation}\")"
   ]
  },
  {
   "cell_type": "markdown",
   "id": "79301e30",
   "metadata": {},
   "source": [
    "### Now, we will repeat steps 1 - 3, 50 times, i.e., create a list of 50 mean squared errors and calculate the mean and Standard deviation of the list."
   ]
  },
  {
   "cell_type": "code",
   "execution_count": 21,
   "id": "33c81757",
   "metadata": {},
   "outputs": [
    {
     "name": "stdout",
     "output_type": "stream",
     "text": [
      " 1: MSE = 201.7618093151105\n",
      " 2: MSE = 143.16816849693126\n",
      " 3: MSE = 110.17803043995089\n",
      " 4: MSE = 117.55544735312847\n",
      " 5: MSE = 120.54027584532703\n",
      " 6: MSE = 106.43613475811905\n",
      " 7: MSE = 122.14412743528298\n",
      " 8: MSE = 90.82784982329433\n",
      " 9: MSE = 107.12063060377794\n",
      " 10: MSE = 85.8858844794116\n",
      " 11: MSE = 71.76959077902983\n",
      " 12: MSE = 56.57871137699263\n",
      " 13: MSE = 61.79365176599003\n",
      " 14: MSE = 54.90298731041572\n",
      " 15: MSE = 46.20057662173768\n",
      " 16: MSE = 44.226352543506806\n",
      " 17: MSE = 45.048644815833825\n",
      " 18: MSE = 48.18098234898836\n",
      " 19: MSE = 40.06690701234688\n",
      " 20: MSE = 45.88658233445053\n",
      " 21: MSE = 40.931589120414266\n",
      " 22: MSE = 41.84210272977267\n",
      " 23: MSE = 42.07831492007357\n",
      " 24: MSE = 42.00696900747355\n",
      " 25: MSE = 42.735138396229175\n",
      " 26: MSE = 42.02866993135619\n",
      " 27: MSE = 40.75031596557222\n",
      " 28: MSE = 39.52926720307483\n",
      " 29: MSE = 50.68142556989849\n",
      " 30: MSE = 44.197037496227274\n",
      " 31: MSE = 43.31090982677867\n",
      " 32: MSE = 35.77122025350923\n",
      " 33: MSE = 44.26550974429232\n",
      " 34: MSE = 43.58813077809356\n",
      " 35: MSE = 39.518398865141144\n",
      " 36: MSE = 46.216126235171814\n",
      " 37: MSE = 43.63307703505828\n",
      " 38: MSE = 47.52637133552033\n",
      " 39: MSE = 42.3661310140369\n",
      " 40: MSE = 38.1773475659318\n",
      " 41: MSE = 45.404373810900836\n",
      " 42: MSE = 39.57634230184709\n",
      " 43: MSE = 39.43320003373723\n",
      " 44: MSE = 49.27555231137569\n",
      " 45: MSE = 45.262267300997735\n",
      " 46: MSE = 44.23278614772562\n",
      " 47: MSE = 44.10621114687626\n",
      " 48: MSE = 44.57731209912346\n",
      " 49: MSE = 44.5434376614765\n",
      " 50: MSE = 42.84819755430746\n",
      "Mean of all 50 Mean squared error values = 60.21374153383467\n",
      "Standard Deviation of all 50 Mean squared error values = 33.73119677763262\n"
     ]
    }
   ],
   "source": [
    "z =1 #for indexing \n",
    "mse_list_50 = [] #empty list for the 50 values \n",
    "model = regression_model()\n",
    "epochs = 50\n",
    "for x in range(50):\n",
    "    \n",
    "    X_train, X_test, y_train, y_test = train_test_split(X_normalized, y, test_size=0.3, random_state=x)\n",
    "    model.fit(X_train, y_train, epochs=epochs, verbose=0)\n",
    "    loss_1 = model.evaluate(X_test, y_test, verbose  =0)\n",
    "    print(f\" {z}: MSE = {loss_1}\")\n",
    "    y_pred1 = model.predict(X_test)\n",
    "    mean_square_error = mean_squared_error(y_test, y_pred1)\n",
    "    mse_list_50.append(mean_square_error)\n",
    "    z += 1\n",
    "    \n",
    "#lets convert the list mse_list_50 into array before we calculate the mean and the standard deviation of the mean squared errors.\n",
    "mse_array_50 = np.array(mse_list_50)\n",
    "mse_array_50_mean = np.mean(mse_array_50)\n",
    "mse_array_50_std = np.std(mse_array_50)\n",
    "print(f\"Mean of all 50 Mean squared error values = {mse_array_50_mean}\")\n",
    "print(f\"Standard Deviation of all 50 Mean squared error values = {mse_array_50_std}\")"
   ]
  },
  {
   "cell_type": "code",
   "execution_count": 22,
   "id": "a182ce1c",
   "metadata": {},
   "outputs": [
    {
     "data": {
      "text/plain": [
       "[201.76180744562046,\n",
       " 143.16817149624399,\n",
       " 110.17802929103449,\n",
       " 117.55544385286066,\n",
       " 120.54027653263606,\n",
       " 106.43613610244823,\n",
       " 122.14412688079567,\n",
       " 90.82784987778282,\n",
       " 107.12062795304749,\n",
       " 85.88588564652052,\n",
       " 71.76958962586994,\n",
       " 56.5787128627597,\n",
       " 61.79365143895132,\n",
       " 54.90298627293398,\n",
       " 46.20057559189805,\n",
       " 44.22635190825704,\n",
       " 45.04864293301454,\n",
       " 48.180980547914125,\n",
       " 40.066908940244936,\n",
       " 45.88658089984174,\n",
       " 40.93158808841903,\n",
       " 41.84210324458037,\n",
       " 42.0783149571165,\n",
       " 42.006969880273985,\n",
       " 42.73513814465646,\n",
       " 42.02867141593988,\n",
       " 40.75031661403214,\n",
       " 39.5292659807368,\n",
       " 50.681427284948214,\n",
       " 44.19703700615173,\n",
       " 43.31091002331918,\n",
       " 35.77121995277407,\n",
       " 44.265510093691965,\n",
       " 43.58813016343943,\n",
       " 39.51839667817907,\n",
       " 46.21612818924392,\n",
       " 43.63307827742651,\n",
       " 47.526372572205,\n",
       " 42.36613087542638,\n",
       " 38.17734807628841,\n",
       " 45.404374550156994,\n",
       " 39.5763423175541,\n",
       " 39.433200614558324,\n",
       " 49.275552948823716,\n",
       " 45.262268573903384,\n",
       " 44.23278478135047,\n",
       " 44.10621150834365,\n",
       " 44.57731268953261,\n",
       " 44.54343816313494,\n",
       " 42.84819692485039]"
      ]
     },
     "execution_count": 22,
     "metadata": {},
     "output_type": "execute_result"
    }
   ],
   "source": [
    "#a look at the list of 50 mean squared errors\n",
    "mse_list_50"
   ]
  },
  {
   "cell_type": "markdown",
   "id": "f2d44870",
   "metadata": {},
   "source": [
    "## How does the mean of the mean squared errors compare to that from Step B?"
   ]
  },
  {
   "cell_type": "code",
   "execution_count": 28,
   "id": "25f00b52",
   "metadata": {},
   "outputs": [
    {
     "name": "stdout",
     "output_type": "stream",
     "text": [
      "With 1 hidden layer only - Part B\n",
      "\n",
      "Mean of all 50 Mean squared error values = 105.14580754892266\n",
      "Standard Deviation of all 50 Mean squared error values = 45.379225803390646\n"
     ]
    }
   ],
   "source": [
    "print(\"With 1 hidden layer only - Part B\")\n",
    "print(f\"\\nMean of all 50 Mean squared error values = 105.14580754892266\")\n",
    "print(f\"Standard Deviation of all 50 Mean squared error values = 45.379225803390646\")"
   ]
  },
  {
   "cell_type": "code",
   "execution_count": 27,
   "id": "5429110f",
   "metadata": {},
   "outputs": [
    {
     "name": "stdout",
     "output_type": "stream",
     "text": [
      "With 3 hidden layers - Part D\n",
      "\n",
      "Mean of all 50 Mean squared error values = 60.21374153383467\n",
      "Standard Deviation of all 50 Mean squared error values = 33.73119677763262\n"
     ]
    }
   ],
   "source": [
    "print(\"With 3 hidden layers - Part D\")\n",
    "print(f\"\\nMean of all 50 Mean squared error values = {mse_array_50_mean}\")\n",
    "print(f\"Standard Deviation of all 50 Mean squared error values = {mse_array_50_std}\")"
   ]
  },
  {
   "cell_type": "code",
   "execution_count": null,
   "id": "3a289fb8",
   "metadata": {},
   "outputs": [],
   "source": []
  }
 ],
 "metadata": {
  "kernelspec": {
   "display_name": "Python 3 (ipykernel)",
   "language": "python",
   "name": "python3"
  },
  "language_info": {
   "codemirror_mode": {
    "name": "ipython",
    "version": 3
   },
   "file_extension": ".py",
   "mimetype": "text/x-python",
   "name": "python",
   "nbconvert_exporter": "python",
   "pygments_lexer": "ipython3",
   "version": "3.7.13"
  }
 },
 "nbformat": 4,
 "nbformat_minor": 5
}
