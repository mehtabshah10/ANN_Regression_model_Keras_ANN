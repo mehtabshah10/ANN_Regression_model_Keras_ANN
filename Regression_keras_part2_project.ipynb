{
 "cells": [
  {
   "cell_type": "markdown",
   "id": "8395554e",
   "metadata": {},
   "source": [
    "# B. Normalize the data (5 marks) \n",
    "\n",
    "Repeat Part A but use a normalized version of the data. Recall that one way to normalize the data is by subtracting the mean from the individual predictors and dividing by the standard deviation.\n",
    "\n",
    "How does the mean of the mean squared errors compare to that from Step A?"
   ]
  },
  {
   "cell_type": "markdown",
   "id": "c044e4c3",
   "metadata": {},
   "source": [
    "# Regression model using Keras (Data normalized)"
   ]
  },
  {
   "cell_type": "markdown",
   "id": "56d80f0d",
   "metadata": {},
   "source": [
    "Lets import numpy and pandas to help us load and analyze data"
   ]
  },
  {
   "cell_type": "code",
   "execution_count": 3,
   "id": "45bdda92",
   "metadata": {},
   "outputs": [],
   "source": [
    "import numpy as np\n",
    "import pandas as pd"
   ]
  },
  {
   "cell_type": "code",
   "execution_count": 4,
   "id": "c0193a39",
   "metadata": {},
   "outputs": [
    {
     "data": {
      "text/html": [
       "<div>\n",
       "<style scoped>\n",
       "    .dataframe tbody tr th:only-of-type {\n",
       "        vertical-align: middle;\n",
       "    }\n",
       "\n",
       "    .dataframe tbody tr th {\n",
       "        vertical-align: top;\n",
       "    }\n",
       "\n",
       "    .dataframe thead th {\n",
       "        text-align: right;\n",
       "    }\n",
       "</style>\n",
       "<table border=\"1\" class=\"dataframe\">\n",
       "  <thead>\n",
       "    <tr style=\"text-align: right;\">\n",
       "      <th></th>\n",
       "      <th>Cement</th>\n",
       "      <th>Blast Furnace Slag</th>\n",
       "      <th>Fly Ash</th>\n",
       "      <th>Water</th>\n",
       "      <th>Superplasticizer</th>\n",
       "      <th>Coarse Aggregate</th>\n",
       "      <th>Fine Aggregate</th>\n",
       "      <th>Age</th>\n",
       "      <th>Strength</th>\n",
       "    </tr>\n",
       "  </thead>\n",
       "  <tbody>\n",
       "    <tr>\n",
       "      <th>0</th>\n",
       "      <td>540.0</td>\n",
       "      <td>0.0</td>\n",
       "      <td>0.0</td>\n",
       "      <td>162.0</td>\n",
       "      <td>2.5</td>\n",
       "      <td>1040.0</td>\n",
       "      <td>676.0</td>\n",
       "      <td>28</td>\n",
       "      <td>79.99</td>\n",
       "    </tr>\n",
       "    <tr>\n",
       "      <th>1</th>\n",
       "      <td>540.0</td>\n",
       "      <td>0.0</td>\n",
       "      <td>0.0</td>\n",
       "      <td>162.0</td>\n",
       "      <td>2.5</td>\n",
       "      <td>1055.0</td>\n",
       "      <td>676.0</td>\n",
       "      <td>28</td>\n",
       "      <td>61.89</td>\n",
       "    </tr>\n",
       "    <tr>\n",
       "      <th>2</th>\n",
       "      <td>332.5</td>\n",
       "      <td>142.5</td>\n",
       "      <td>0.0</td>\n",
       "      <td>228.0</td>\n",
       "      <td>0.0</td>\n",
       "      <td>932.0</td>\n",
       "      <td>594.0</td>\n",
       "      <td>270</td>\n",
       "      <td>40.27</td>\n",
       "    </tr>\n",
       "    <tr>\n",
       "      <th>3</th>\n",
       "      <td>332.5</td>\n",
       "      <td>142.5</td>\n",
       "      <td>0.0</td>\n",
       "      <td>228.0</td>\n",
       "      <td>0.0</td>\n",
       "      <td>932.0</td>\n",
       "      <td>594.0</td>\n",
       "      <td>365</td>\n",
       "      <td>41.05</td>\n",
       "    </tr>\n",
       "    <tr>\n",
       "      <th>4</th>\n",
       "      <td>198.6</td>\n",
       "      <td>132.4</td>\n",
       "      <td>0.0</td>\n",
       "      <td>192.0</td>\n",
       "      <td>0.0</td>\n",
       "      <td>978.4</td>\n",
       "      <td>825.5</td>\n",
       "      <td>360</td>\n",
       "      <td>44.30</td>\n",
       "    </tr>\n",
       "  </tbody>\n",
       "</table>\n",
       "</div>"
      ],
      "text/plain": [
       "   Cement  Blast Furnace Slag  Fly Ash  Water  Superplasticizer  \\\n",
       "0   540.0                 0.0      0.0  162.0               2.5   \n",
       "1   540.0                 0.0      0.0  162.0               2.5   \n",
       "2   332.5               142.5      0.0  228.0               0.0   \n",
       "3   332.5               142.5      0.0  228.0               0.0   \n",
       "4   198.6               132.4      0.0  192.0               0.0   \n",
       "\n",
       "   Coarse Aggregate  Fine Aggregate  Age  Strength  \n",
       "0            1040.0           676.0   28     79.99  \n",
       "1            1055.0           676.0   28     61.89  \n",
       "2             932.0           594.0  270     40.27  \n",
       "3             932.0           594.0  365     41.05  \n",
       "4             978.4           825.5  360     44.30  "
      ]
     },
     "execution_count": 4,
     "metadata": {},
     "output_type": "execute_result"
    }
   ],
   "source": [
    "#lets load the data, and take a look at the data using .head()\n",
    "data = pd.read_csv(\"concrete_data.csv\")\n",
    "data.head()\n"
   ]
  },
  {
   "cell_type": "code",
   "execution_count": 5,
   "id": "abd20514",
   "metadata": {},
   "outputs": [
    {
     "data": {
      "text/plain": [
       "(1030, 9)"
      ]
     },
     "execution_count": 5,
     "metadata": {},
     "output_type": "execute_result"
    }
   ],
   "source": [
    "#lets print the shape of the data (i.e. number of rows and columns)\n",
    "data.shape"
   ]
  },
  {
   "cell_type": "markdown",
   "id": "394d0bc9",
   "metadata": {},
   "source": [
    "Therefore, our dataset has 1030 rows and only 9 columns.\n",
    "Lets take a look at the data for any missing values before we start building the model using the data."
   ]
  },
  {
   "cell_type": "code",
   "execution_count": 6,
   "id": "f48e13bd",
   "metadata": {},
   "outputs": [
    {
     "data": {
      "text/html": [
       "<div>\n",
       "<style scoped>\n",
       "    .dataframe tbody tr th:only-of-type {\n",
       "        vertical-align: middle;\n",
       "    }\n",
       "\n",
       "    .dataframe tbody tr th {\n",
       "        vertical-align: top;\n",
       "    }\n",
       "\n",
       "    .dataframe thead th {\n",
       "        text-align: right;\n",
       "    }\n",
       "</style>\n",
       "<table border=\"1\" class=\"dataframe\">\n",
       "  <thead>\n",
       "    <tr style=\"text-align: right;\">\n",
       "      <th></th>\n",
       "      <th>Cement</th>\n",
       "      <th>Blast Furnace Slag</th>\n",
       "      <th>Fly Ash</th>\n",
       "      <th>Water</th>\n",
       "      <th>Superplasticizer</th>\n",
       "      <th>Coarse Aggregate</th>\n",
       "      <th>Fine Aggregate</th>\n",
       "      <th>Age</th>\n",
       "      <th>Strength</th>\n",
       "    </tr>\n",
       "  </thead>\n",
       "  <tbody>\n",
       "    <tr>\n",
       "      <th>count</th>\n",
       "      <td>1030.000000</td>\n",
       "      <td>1030.000000</td>\n",
       "      <td>1030.000000</td>\n",
       "      <td>1030.000000</td>\n",
       "      <td>1030.000000</td>\n",
       "      <td>1030.000000</td>\n",
       "      <td>1030.000000</td>\n",
       "      <td>1030.000000</td>\n",
       "      <td>1030.000000</td>\n",
       "    </tr>\n",
       "    <tr>\n",
       "      <th>mean</th>\n",
       "      <td>281.167864</td>\n",
       "      <td>73.895825</td>\n",
       "      <td>54.188350</td>\n",
       "      <td>181.567282</td>\n",
       "      <td>6.204660</td>\n",
       "      <td>972.918932</td>\n",
       "      <td>773.580485</td>\n",
       "      <td>45.662136</td>\n",
       "      <td>35.817961</td>\n",
       "    </tr>\n",
       "    <tr>\n",
       "      <th>std</th>\n",
       "      <td>104.506364</td>\n",
       "      <td>86.279342</td>\n",
       "      <td>63.997004</td>\n",
       "      <td>21.354219</td>\n",
       "      <td>5.973841</td>\n",
       "      <td>77.753954</td>\n",
       "      <td>80.175980</td>\n",
       "      <td>63.169912</td>\n",
       "      <td>16.705742</td>\n",
       "    </tr>\n",
       "    <tr>\n",
       "      <th>min</th>\n",
       "      <td>102.000000</td>\n",
       "      <td>0.000000</td>\n",
       "      <td>0.000000</td>\n",
       "      <td>121.800000</td>\n",
       "      <td>0.000000</td>\n",
       "      <td>801.000000</td>\n",
       "      <td>594.000000</td>\n",
       "      <td>1.000000</td>\n",
       "      <td>2.330000</td>\n",
       "    </tr>\n",
       "    <tr>\n",
       "      <th>25%</th>\n",
       "      <td>192.375000</td>\n",
       "      <td>0.000000</td>\n",
       "      <td>0.000000</td>\n",
       "      <td>164.900000</td>\n",
       "      <td>0.000000</td>\n",
       "      <td>932.000000</td>\n",
       "      <td>730.950000</td>\n",
       "      <td>7.000000</td>\n",
       "      <td>23.710000</td>\n",
       "    </tr>\n",
       "    <tr>\n",
       "      <th>50%</th>\n",
       "      <td>272.900000</td>\n",
       "      <td>22.000000</td>\n",
       "      <td>0.000000</td>\n",
       "      <td>185.000000</td>\n",
       "      <td>6.400000</td>\n",
       "      <td>968.000000</td>\n",
       "      <td>779.500000</td>\n",
       "      <td>28.000000</td>\n",
       "      <td>34.445000</td>\n",
       "    </tr>\n",
       "    <tr>\n",
       "      <th>75%</th>\n",
       "      <td>350.000000</td>\n",
       "      <td>142.950000</td>\n",
       "      <td>118.300000</td>\n",
       "      <td>192.000000</td>\n",
       "      <td>10.200000</td>\n",
       "      <td>1029.400000</td>\n",
       "      <td>824.000000</td>\n",
       "      <td>56.000000</td>\n",
       "      <td>46.135000</td>\n",
       "    </tr>\n",
       "    <tr>\n",
       "      <th>max</th>\n",
       "      <td>540.000000</td>\n",
       "      <td>359.400000</td>\n",
       "      <td>200.100000</td>\n",
       "      <td>247.000000</td>\n",
       "      <td>32.200000</td>\n",
       "      <td>1145.000000</td>\n",
       "      <td>992.600000</td>\n",
       "      <td>365.000000</td>\n",
       "      <td>82.600000</td>\n",
       "    </tr>\n",
       "  </tbody>\n",
       "</table>\n",
       "</div>"
      ],
      "text/plain": [
       "            Cement  Blast Furnace Slag      Fly Ash        Water  \\\n",
       "count  1030.000000         1030.000000  1030.000000  1030.000000   \n",
       "mean    281.167864           73.895825    54.188350   181.567282   \n",
       "std     104.506364           86.279342    63.997004    21.354219   \n",
       "min     102.000000            0.000000     0.000000   121.800000   \n",
       "25%     192.375000            0.000000     0.000000   164.900000   \n",
       "50%     272.900000           22.000000     0.000000   185.000000   \n",
       "75%     350.000000          142.950000   118.300000   192.000000   \n",
       "max     540.000000          359.400000   200.100000   247.000000   \n",
       "\n",
       "       Superplasticizer  Coarse Aggregate  Fine Aggregate          Age  \\\n",
       "count       1030.000000       1030.000000     1030.000000  1030.000000   \n",
       "mean           6.204660        972.918932      773.580485    45.662136   \n",
       "std            5.973841         77.753954       80.175980    63.169912   \n",
       "min            0.000000        801.000000      594.000000     1.000000   \n",
       "25%            0.000000        932.000000      730.950000     7.000000   \n",
       "50%            6.400000        968.000000      779.500000    28.000000   \n",
       "75%           10.200000       1029.400000      824.000000    56.000000   \n",
       "max           32.200000       1145.000000      992.600000   365.000000   \n",
       "\n",
       "          Strength  \n",
       "count  1030.000000  \n",
       "mean     35.817961  \n",
       "std      16.705742  \n",
       "min       2.330000  \n",
       "25%      23.710000  \n",
       "50%      34.445000  \n",
       "75%      46.135000  \n",
       "max      82.600000  "
      ]
     },
     "execution_count": 6,
     "metadata": {},
     "output_type": "execute_result"
    }
   ],
   "source": [
    "data.describe()\n"
   ]
  },
  {
   "cell_type": "code",
   "execution_count": 7,
   "id": "06911fcb",
   "metadata": {},
   "outputs": [
    {
     "data": {
      "text/plain": [
       "Cement                0\n",
       "Blast Furnace Slag    0\n",
       "Fly Ash               0\n",
       "Water                 0\n",
       "Superplasticizer      0\n",
       "Coarse Aggregate      0\n",
       "Fine Aggregate        0\n",
       "Age                   0\n",
       "Strength              0\n",
       "dtype: int64"
      ]
     },
     "execution_count": 7,
     "metadata": {},
     "output_type": "execute_result"
    }
   ],
   "source": [
    "data.isnull().sum()"
   ]
  },
  {
   "cell_type": "markdown",
   "id": "74e6d49e",
   "metadata": {},
   "source": [
    "The data looks good so far, therfore we can begin the next steps."
   ]
  },
  {
   "cell_type": "markdown",
   "id": "5ac2315a",
   "metadata": {},
   "source": [
    "Since, for the first part, we are not to normalioze the data, I will jump straight to splitting the dataset."
   ]
  },
  {
   "cell_type": "markdown",
   "id": "ed7b9a4a",
   "metadata": {},
   "source": [
    "### Lets divide our dataset into predictors (X) and target variable (y) (independent and dependent variable)"
   ]
  },
  {
   "cell_type": "code",
   "execution_count": 8,
   "id": "840a2fa3",
   "metadata": {},
   "outputs": [
    {
     "data": {
      "text/html": [
       "<div>\n",
       "<style scoped>\n",
       "    .dataframe tbody tr th:only-of-type {\n",
       "        vertical-align: middle;\n",
       "    }\n",
       "\n",
       "    .dataframe tbody tr th {\n",
       "        vertical-align: top;\n",
       "    }\n",
       "\n",
       "    .dataframe thead th {\n",
       "        text-align: right;\n",
       "    }\n",
       "</style>\n",
       "<table border=\"1\" class=\"dataframe\">\n",
       "  <thead>\n",
       "    <tr style=\"text-align: right;\">\n",
       "      <th></th>\n",
       "      <th>Cement</th>\n",
       "      <th>Blast Furnace Slag</th>\n",
       "      <th>Fly Ash</th>\n",
       "      <th>Water</th>\n",
       "      <th>Superplasticizer</th>\n",
       "      <th>Coarse Aggregate</th>\n",
       "      <th>Fine Aggregate</th>\n",
       "      <th>Age</th>\n",
       "    </tr>\n",
       "  </thead>\n",
       "  <tbody>\n",
       "    <tr>\n",
       "      <th>0</th>\n",
       "      <td>540.0</td>\n",
       "      <td>0.0</td>\n",
       "      <td>0.0</td>\n",
       "      <td>162.0</td>\n",
       "      <td>2.5</td>\n",
       "      <td>1040.0</td>\n",
       "      <td>676.0</td>\n",
       "      <td>28</td>\n",
       "    </tr>\n",
       "    <tr>\n",
       "      <th>1</th>\n",
       "      <td>540.0</td>\n",
       "      <td>0.0</td>\n",
       "      <td>0.0</td>\n",
       "      <td>162.0</td>\n",
       "      <td>2.5</td>\n",
       "      <td>1055.0</td>\n",
       "      <td>676.0</td>\n",
       "      <td>28</td>\n",
       "    </tr>\n",
       "    <tr>\n",
       "      <th>2</th>\n",
       "      <td>332.5</td>\n",
       "      <td>142.5</td>\n",
       "      <td>0.0</td>\n",
       "      <td>228.0</td>\n",
       "      <td>0.0</td>\n",
       "      <td>932.0</td>\n",
       "      <td>594.0</td>\n",
       "      <td>270</td>\n",
       "    </tr>\n",
       "    <tr>\n",
       "      <th>3</th>\n",
       "      <td>332.5</td>\n",
       "      <td>142.5</td>\n",
       "      <td>0.0</td>\n",
       "      <td>228.0</td>\n",
       "      <td>0.0</td>\n",
       "      <td>932.0</td>\n",
       "      <td>594.0</td>\n",
       "      <td>365</td>\n",
       "    </tr>\n",
       "    <tr>\n",
       "      <th>4</th>\n",
       "      <td>198.6</td>\n",
       "      <td>132.4</td>\n",
       "      <td>0.0</td>\n",
       "      <td>192.0</td>\n",
       "      <td>0.0</td>\n",
       "      <td>978.4</td>\n",
       "      <td>825.5</td>\n",
       "      <td>360</td>\n",
       "    </tr>\n",
       "  </tbody>\n",
       "</table>\n",
       "</div>"
      ],
      "text/plain": [
       "   Cement  Blast Furnace Slag  Fly Ash  Water  Superplasticizer  \\\n",
       "0   540.0                 0.0      0.0  162.0               2.5   \n",
       "1   540.0                 0.0      0.0  162.0               2.5   \n",
       "2   332.5               142.5      0.0  228.0               0.0   \n",
       "3   332.5               142.5      0.0  228.0               0.0   \n",
       "4   198.6               132.4      0.0  192.0               0.0   \n",
       "\n",
       "   Coarse Aggregate  Fine Aggregate  Age  \n",
       "0            1040.0           676.0   28  \n",
       "1            1055.0           676.0   28  \n",
       "2             932.0           594.0  270  \n",
       "3             932.0           594.0  365  \n",
       "4             978.4           825.5  360  "
      ]
     },
     "execution_count": 8,
     "metadata": {},
     "output_type": "execute_result"
    }
   ],
   "source": [
    "X = data[['Cement','Blast Furnace Slag','Fly Ash',\n",
    "                  'Water','Superplasticizer','Coarse Aggregate','Fine Aggregate','Age']]\n",
    "\n",
    "X.head()"
   ]
  },
  {
   "cell_type": "code",
   "execution_count": 9,
   "id": "94e56754",
   "metadata": {},
   "outputs": [
    {
     "data": {
      "text/html": [
       "<div>\n",
       "<style scoped>\n",
       "    .dataframe tbody tr th:only-of-type {\n",
       "        vertical-align: middle;\n",
       "    }\n",
       "\n",
       "    .dataframe tbody tr th {\n",
       "        vertical-align: top;\n",
       "    }\n",
       "\n",
       "    .dataframe thead th {\n",
       "        text-align: right;\n",
       "    }\n",
       "</style>\n",
       "<table border=\"1\" class=\"dataframe\">\n",
       "  <thead>\n",
       "    <tr style=\"text-align: right;\">\n",
       "      <th></th>\n",
       "      <th>Strength</th>\n",
       "    </tr>\n",
       "  </thead>\n",
       "  <tbody>\n",
       "    <tr>\n",
       "      <th>0</th>\n",
       "      <td>79.99</td>\n",
       "    </tr>\n",
       "    <tr>\n",
       "      <th>1</th>\n",
       "      <td>61.89</td>\n",
       "    </tr>\n",
       "    <tr>\n",
       "      <th>2</th>\n",
       "      <td>40.27</td>\n",
       "    </tr>\n",
       "    <tr>\n",
       "      <th>3</th>\n",
       "      <td>41.05</td>\n",
       "    </tr>\n",
       "    <tr>\n",
       "      <th>4</th>\n",
       "      <td>44.30</td>\n",
       "    </tr>\n",
       "  </tbody>\n",
       "</table>\n",
       "</div>"
      ],
      "text/plain": [
       "   Strength\n",
       "0     79.99\n",
       "1     61.89\n",
       "2     40.27\n",
       "3     41.05\n",
       "4     44.30"
      ]
     },
     "execution_count": 9,
     "metadata": {},
     "output_type": "execute_result"
    }
   ],
   "source": [
    "y = data[['Strength']]\n",
    "y.head()"
   ]
  },
  {
   "cell_type": "markdown",
   "id": "6173c520",
   "metadata": {},
   "source": [
    "### Lets convert both, X and y into arrays"
   ]
  },
  {
   "cell_type": "code",
   "execution_count": 10,
   "id": "d722435c",
   "metadata": {},
   "outputs": [
    {
     "data": {
      "text/plain": [
       "array([[ 540. ,    0. ,    0. , ..., 1040. ,  676. ,   28. ],\n",
       "       [ 540. ,    0. ,    0. , ..., 1055. ,  676. ,   28. ],\n",
       "       [ 332.5,  142.5,    0. , ...,  932. ,  594. ,  270. ],\n",
       "       ...,\n",
       "       [ 148.5,  139.4,  108.6, ...,  892.4,  780. ,   28. ],\n",
       "       [ 159.1,  186.7,    0. , ...,  989.6,  788.9,   28. ],\n",
       "       [ 260.9,  100.5,   78.3, ...,  864.5,  761.5,   28. ]])"
      ]
     },
     "execution_count": 10,
     "metadata": {},
     "output_type": "execute_result"
    }
   ],
   "source": [
    "X = X.values\n",
    "X"
   ]
  },
  {
   "cell_type": "code",
   "execution_count": 11,
   "id": "aaedeff8",
   "metadata": {},
   "outputs": [
    {
     "data": {
      "text/plain": [
       "array([[79.99],\n",
       "       [61.89],\n",
       "       [40.27],\n",
       "       ...,\n",
       "       [23.7 ],\n",
       "       [32.77],\n",
       "       [32.4 ]])"
      ]
     },
     "execution_count": 11,
     "metadata": {},
     "output_type": "execute_result"
    }
   ],
   "source": [
    "y = y.values\n",
    "y"
   ]
  },
  {
   "cell_type": "markdown",
   "id": "c546077d",
   "metadata": {},
   "source": [
    "## Lets Normalize the X (independent variables/predictors)"
   ]
  },
  {
   "cell_type": "code",
   "execution_count": 12,
   "id": "1a282383",
   "metadata": {},
   "outputs": [],
   "source": [
    "X_normalized = (X - X.mean()) / X.std() "
   ]
  },
  {
   "cell_type": "code",
   "execution_count": 13,
   "id": "89a675c0",
   "metadata": {},
   "outputs": [
    {
     "name": "stdout",
     "output_type": "stream",
     "text": [
      "(1030, 8)\n",
      "(1030, 8)\n"
     ]
    }
   ],
   "source": [
    "print(X_normalized.shape)\n",
    "print(X.shape)"
   ]
  },
  {
   "cell_type": "markdown",
   "id": "a718ca6e",
   "metadata": {},
   "source": [
    "### Now that we have both, the target and predictor variabels, lets move onto splitting our dataset.\n"
   ]
  },
  {
   "cell_type": "code",
   "execution_count": 14,
   "id": "465ed22b",
   "metadata": {},
   "outputs": [
    {
     "name": "stdout",
     "output_type": "stream",
     "text": [
      "Train Set = (721, 8),(721, 1)\n",
      "Test Set = (309, 8),(309, 1)\n"
     ]
    }
   ],
   "source": [
    "from sklearn import preprocessing\n",
    "from sklearn.model_selection import train_test_split\n",
    "\n",
    "X_train, X_test, y_train, y_test = train_test_split( X_normalized, y, test_size=0.3, random_state=42)\n",
    "print(f\"Train Set = {X_train.shape},{y_train.shape}\")\n",
    "print(f\"Test Set = {X_test.shape},{y_test.shape}\")"
   ]
  },
  {
   "cell_type": "markdown",
   "id": "f0323d4f",
   "metadata": {},
   "source": [
    "30% of the dataset has been reserved for testing as per the instructions"
   ]
  },
  {
   "cell_type": "markdown",
   "id": "0f8ac532",
   "metadata": {},
   "source": [
    "### Lets import some important libraries for building our model"
   ]
  },
  {
   "cell_type": "code",
   "execution_count": 15,
   "id": "d37d4ac9",
   "metadata": {},
   "outputs": [],
   "source": [
    "import tensorflow\n",
    "\n",
    "from tensorflow.keras.models import Sequential\n",
    "from tensorflow.keras.layers import Dense\n",
    "from tensorflow.keras.utils import to_categorical"
   ]
  },
  {
   "cell_type": "code",
   "execution_count": 16,
   "id": "5cbb97a3",
   "metadata": {},
   "outputs": [
    {
     "name": "stdout",
     "output_type": "stream",
     "text": [
      "8\n"
     ]
    }
   ],
   "source": [
    "#lets define n_cols to be the size of the number of variables in X\n",
    "n_cols = X_test.shape[1]\n",
    "print(n_cols)"
   ]
  },
  {
   "cell_type": "markdown",
   "id": "4ec64726",
   "metadata": {},
   "source": [
    "#### Therefore, we will have 8 nodes in the input layer of the ANN."
   ]
  },
  {
   "cell_type": "code",
   "execution_count": 17,
   "id": "8fe960e3",
   "metadata": {},
   "outputs": [],
   "source": [
    "#lets create our model\n",
    "def regression_model():\n",
    "    # create the model\n",
    "    model = tensorflow.keras.Sequential()\n",
    "    model.add(Dense(10, activation='relu', input_shape=(n_cols,)))\n",
    "    model.add(Dense(1))\n",
    "    \n",
    "    # compile thye model\n",
    "    model.compile(optimizer='adam', loss='mean_squared_error')\n",
    "    return model\n"
   ]
  },
  {
   "cell_type": "markdown",
   "id": "f78ed871",
   "metadata": {},
   "source": [
    "The above function creates a model that has one hidden layer with 10 neurons and uses ReLU activation function. It uses the adam optimizer and the mean squared error as the loss function, as per instructions."
   ]
  },
  {
   "cell_type": "code",
   "execution_count": 18,
   "id": "734400d1",
   "metadata": {},
   "outputs": [
    {
     "name": "stderr",
     "output_type": "stream",
     "text": [
      "2022-04-13 14:35:07.284874: I tensorflow/core/platform/cpu_feature_guard.cc:145] This TensorFlow binary is optimized with Intel(R) MKL-DNN to use the following CPU instructions in performance critical operations:  SSE4.1 SSE4.2\n",
      "To enable them in non-MKL-DNN operations, rebuild TensorFlow with the appropriate compiler flags.\n",
      "2022-04-13 14:35:07.285322: I tensorflow/core/common_runtime/process_util.cc:115] Creating new thread pool with default inter op setting: 8. Tune using inter_op_parallelism_threads for best performance.\n"
     ]
    }
   ],
   "source": [
    "#lets build the model\n",
    "model = regression_model()"
   ]
  },
  {
   "cell_type": "markdown",
   "id": "a0ad4755",
   "metadata": {},
   "source": [
    "Lets train the model with 50 epochs"
   ]
  },
  {
   "cell_type": "code",
   "execution_count": 19,
   "id": "b8c46f96",
   "metadata": {},
   "outputs": [
    {
     "name": "stdout",
     "output_type": "stream",
     "text": [
      "Train on 721 samples\n",
      "Epoch 1/50\n",
      "721/721 - 0s - loss: 1450.1316\n",
      "Epoch 2/50\n",
      "721/721 - 0s - loss: 1411.0284\n",
      "Epoch 3/50\n",
      "721/721 - 0s - loss: 1371.6819\n",
      "Epoch 4/50\n",
      "721/721 - 0s - loss: 1332.0697\n",
      "Epoch 5/50\n",
      "721/721 - 0s - loss: 1291.5961\n",
      "Epoch 6/50\n",
      "721/721 - 0s - loss: 1249.9402\n",
      "Epoch 7/50\n",
      "721/721 - 0s - loss: 1207.3595\n",
      "Epoch 8/50\n",
      "721/721 - 0s - loss: 1162.6883\n",
      "Epoch 9/50\n",
      "721/721 - 0s - loss: 1116.3489\n",
      "Epoch 10/50\n",
      "721/721 - 0s - loss: 1069.0254\n",
      "Epoch 11/50\n",
      "721/721 - 0s - loss: 1019.6831\n",
      "Epoch 12/50\n",
      "721/721 - 0s - loss: 970.7288\n",
      "Epoch 13/50\n",
      "721/721 - 0s - loss: 920.6431\n",
      "Epoch 14/50\n",
      "721/721 - 0s - loss: 870.9823\n",
      "Epoch 15/50\n",
      "721/721 - 0s - loss: 821.7653\n",
      "Epoch 16/50\n",
      "721/721 - 0s - loss: 773.5706\n",
      "Epoch 17/50\n",
      "721/721 - 0s - loss: 726.0541\n",
      "Epoch 18/50\n",
      "721/721 - 0s - loss: 680.4849\n",
      "Epoch 19/50\n",
      "721/721 - 0s - loss: 636.1126\n",
      "Epoch 20/50\n",
      "721/721 - 0s - loss: 594.2987\n",
      "Epoch 21/50\n",
      "721/721 - 0s - loss: 554.2411\n",
      "Epoch 22/50\n",
      "721/721 - 0s - loss: 517.2179\n",
      "Epoch 23/50\n",
      "721/721 - 0s - loss: 482.4808\n",
      "Epoch 24/50\n",
      "721/721 - 0s - loss: 451.0140\n",
      "Epoch 25/50\n",
      "721/721 - 0s - loss: 423.0348\n",
      "Epoch 26/50\n",
      "721/721 - 0s - loss: 397.5913\n",
      "Epoch 27/50\n",
      "721/721 - 0s - loss: 375.5636\n",
      "Epoch 28/50\n",
      "721/721 - 0s - loss: 356.7926\n",
      "Epoch 29/50\n",
      "721/721 - 0s - loss: 340.7335\n",
      "Epoch 30/50\n",
      "721/721 - 0s - loss: 327.4729\n",
      "Epoch 31/50\n",
      "721/721 - 0s - loss: 316.9170\n",
      "Epoch 32/50\n",
      "721/721 - 0s - loss: 308.2648\n",
      "Epoch 33/50\n",
      "721/721 - 0s - loss: 301.4024\n",
      "Epoch 34/50\n",
      "721/721 - 0s - loss: 296.0602\n",
      "Epoch 35/50\n",
      "721/721 - 0s - loss: 292.1335\n",
      "Epoch 36/50\n",
      "721/721 - 0s - loss: 288.6066\n",
      "Epoch 37/50\n",
      "721/721 - 0s - loss: 286.1249\n",
      "Epoch 38/50\n",
      "721/721 - 0s - loss: 284.2927\n",
      "Epoch 39/50\n",
      "721/721 - 0s - loss: 282.6597\n",
      "Epoch 40/50\n",
      "721/721 - 0s - loss: 281.4268\n",
      "Epoch 41/50\n",
      "721/721 - 0s - loss: 280.4387\n",
      "Epoch 42/50\n",
      "721/721 - 0s - loss: 279.5298\n",
      "Epoch 43/50\n",
      "721/721 - 0s - loss: 278.7732\n",
      "Epoch 44/50\n",
      "721/721 - 0s - loss: 278.0824\n",
      "Epoch 45/50\n",
      "721/721 - 0s - loss: 277.4817\n",
      "Epoch 46/50\n",
      "721/721 - 0s - loss: 276.7451\n",
      "Epoch 47/50\n",
      "721/721 - 0s - loss: 276.1809\n",
      "Epoch 48/50\n",
      "721/721 - 0s - loss: 275.6620\n",
      "Epoch 49/50\n",
      "721/721 - 0s - loss: 275.0487\n",
      "Epoch 50/50\n",
      "721/721 - 0s - loss: 274.3577\n"
     ]
    },
    {
     "data": {
      "text/plain": [
       "<tensorflow.python.keras.callbacks.History at 0x7fb0b8203e50>"
      ]
     },
     "execution_count": 19,
     "metadata": {},
     "output_type": "execute_result"
    }
   ],
   "source": [
    "# fit the model\n",
    "epochs = 50\n",
    "model.fit(X_train, y_train, epochs=epochs, verbose=2)"
   ]
  },
  {
   "cell_type": "code",
   "execution_count": 20,
   "id": "16126295",
   "metadata": {},
   "outputs": [
    {
     "name": "stdout",
     "output_type": "stream",
     "text": [
      "309/1 - 0s - loss: 244.1764\n"
     ]
    },
    {
     "data": {
      "text/plain": [
       "268.62339935796547"
      ]
     },
     "execution_count": 20,
     "metadata": {},
     "output_type": "execute_result"
    }
   ],
   "source": [
    "#Lets evaluate the model now:\n",
    "\n",
    "loss_ = model.evaluate(X_test, y_test, verbose  =2)\n",
    "y_pred = model.predict(X_test)\n",
    "loss_\n",
    "\n"
   ]
  },
  {
   "cell_type": "markdown",
   "id": "1272b8de",
   "metadata": {},
   "source": [
    "\n",
    "\n",
    "Now we need to compute the mean squared error between the predicted concrete strength and the actual concrete strength.\n",
    "\n",
    "Let's import the mean_squared_error function from Scikit-learn.\n",
    "\n"
   ]
  },
  {
   "cell_type": "code",
   "execution_count": 21,
   "id": "d270776c",
   "metadata": {},
   "outputs": [],
   "source": [
    "from sklearn.metrics import mean_squared_error"
   ]
  },
  {
   "cell_type": "code",
   "execution_count": 22,
   "id": "fafb5f7b",
   "metadata": {},
   "outputs": [
    {
     "name": "stdout",
     "output_type": "stream",
     "text": [
      "Mean of MSE = 268.62340942009075\n",
      "Standard Deviation of MSE = 0.0\n"
     ]
    }
   ],
   "source": [
    "mean_square_error = mean_squared_error(y_test, y_pred)\n",
    "mean = np.mean(mean_square_error)\n",
    "standard_deviation = np.std(mean_square_error)\n",
    "print(f\"Mean of MSE = {mean}\")\n",
    "print(f\"Standard Deviation of MSE = {standard_deviation}\")"
   ]
  },
  {
   "cell_type": "markdown",
   "id": "79301e30",
   "metadata": {},
   "source": [
    "### Now, we will repeat steps 1 - 3, 50 times, i.e., create a list of 50 mean squared errors and calculate the mean and Standard deviation of the list."
   ]
  },
  {
   "cell_type": "code",
   "execution_count": 23,
   "id": "33c81757",
   "metadata": {},
   "outputs": [
    {
     "name": "stdout",
     "output_type": "stream",
     "text": [
      " 1: MSE = 253.65496055825244\n",
      " 2: MSE = 218.91899963181382\n",
      " 3: MSE = 214.45071885192277\n",
      " 4: MSE = 220.57252161711165\n",
      " 5: MSE = 197.28304836433682\n",
      " 6: MSE = 160.46466355802173\n",
      " 7: MSE = 173.15946288864976\n",
      " 8: MSE = 126.89095276767767\n",
      " 9: MSE = 142.55969021003995\n",
      " 10: MSE = 124.7042385953144\n",
      " 11: MSE = 113.13132528656895\n",
      " 12: MSE = 109.44876883793803\n",
      " 13: MSE = 116.43116599765024\n",
      " 14: MSE = 119.2698263520176\n",
      " 15: MSE = 106.93716818306439\n",
      " 16: MSE = 101.24694100784252\n",
      " 17: MSE = 100.14456655755399\n",
      " 18: MSE = 95.20003200889019\n",
      " 19: MSE = 86.88076076075482\n",
      " 20: MSE = 106.97797497499336\n",
      " 21: MSE = 89.26086539357998\n",
      " 22: MSE = 87.92968258657116\n",
      " 23: MSE = 92.81697833113685\n",
      " 24: MSE = 88.40291648543769\n",
      " 25: MSE = 92.81960410207607\n",
      " 26: MSE = 85.81355458478711\n",
      " 27: MSE = 95.3424291765034\n",
      " 28: MSE = 90.7981791079623\n",
      " 29: MSE = 87.56704916846019\n",
      " 30: MSE = 86.2289626976433\n",
      " 31: MSE = 84.32435936295099\n",
      " 32: MSE = 77.83063591028109\n",
      " 33: MSE = 71.47631850751858\n",
      " 34: MSE = 82.61176974102132\n",
      " 35: MSE = 78.11758252486442\n",
      " 36: MSE = 88.37036614279145\n",
      " 37: MSE = 81.68768338941062\n",
      " 38: MSE = 80.18702455786054\n",
      " 39: MSE = 70.31024192143413\n",
      " 40: MSE = 70.34208258224537\n",
      " 41: MSE = 76.34483967012572\n",
      " 42: MSE = 71.46754576550333\n",
      " 43: MSE = 65.40383822246663\n",
      " 44: MSE = 71.34504240461924\n",
      " 45: MSE = 70.28408899893653\n",
      " 46: MSE = 71.83412088931186\n",
      " 47: MSE = 66.34418334467125\n",
      " 48: MSE = 66.53886788871296\n",
      " 49: MSE = 61.848397424691704\n",
      " 50: MSE = 65.31342328019127\n",
      "Mean of all 50 Mean squared error values = 105.14580754892266\n",
      "Standard Deviation of all 50 Mean squared error values = 45.379225803390646\n"
     ]
    }
   ],
   "source": [
    "z =1 #for indexing \n",
    "mse_list_50 = [] #empty list for the 50 values \n",
    "model = regression_model()\n",
    "epochs = 50\n",
    "for x in range(50):\n",
    "    \n",
    "    X_train, X_test, y_train, y_test = train_test_split(X_normalized, y, test_size=0.3, random_state=x)\n",
    "    model.fit(X_train, y_train, epochs=epochs, verbose=0)\n",
    "    loss_1 = model.evaluate(X_test, y_test, verbose  =0)\n",
    "    print(f\" {z}: MSE = {loss_1}\")\n",
    "    y_pred1 = model.predict(X_test)\n",
    "    mean_square_error = mean_squared_error(y_test, y_pred1)\n",
    "    mse_list_50.append(mean_square_error)\n",
    "    z += 1\n",
    "    \n",
    "#lets convert the list mse_list_50 into array before we calculate the mean and the standard deviation of the mean squared errors.\n",
    "mse_array_50 = np.array(mse_list_50)\n",
    "mse_array_50_mean = np.mean(mse_array_50)\n",
    "mse_array_50_std = np.std(mse_array_50)\n",
    "print(f\"Mean of all 50 Mean squared error values = {mse_array_50_mean}\")\n",
    "print(f\"Standard Deviation of all 50 Mean squared error values = {mse_array_50_std}\")"
   ]
  },
  {
   "cell_type": "code",
   "execution_count": 24,
   "id": "a182ce1c",
   "metadata": {},
   "outputs": [
    {
     "data": {
      "text/plain": [
       "[253.6549580600918,\n",
       " 218.91899911393568,\n",
       " 214.45071547673413,\n",
       " 220.572515846307,\n",
       " 197.28304764132756,\n",
       " 160.46466461210213,\n",
       " 173.1594628665499,\n",
       " 126.89095454331132,\n",
       " 142.55969185041894,\n",
       " 124.70423809855293,\n",
       " 113.13132486996386,\n",
       " 109.44876785449831,\n",
       " 116.43116585203373,\n",
       " 119.26982552615455,\n",
       " 106.9371650175403,\n",
       " 101.24694017219355,\n",
       " 100.14456539463497,\n",
       " 95.20003116582488,\n",
       " 86.88075865134273,\n",
       " 106.97797477677871,\n",
       " 89.26086341173526,\n",
       " 87.92968109926554,\n",
       " 92.81698104564093,\n",
       " 88.40291655030335,\n",
       " 92.81960037688077,\n",
       " 85.81355501987021,\n",
       " 95.34242933386099,\n",
       " 90.79817500936639,\n",
       " 87.56705058417077,\n",
       " 86.22896188826967,\n",
       " 84.3243595986096,\n",
       " 77.83063355662888,\n",
       " 71.47631662976559,\n",
       " 82.61176737209637,\n",
       " 78.11758098294065,\n",
       " 88.37036601611327,\n",
       " 81.68768175563683,\n",
       " 80.18702522526183,\n",
       " 70.31023958191744,\n",
       " 70.34208138692726,\n",
       " 76.34483849077779,\n",
       " 71.4675444240268,\n",
       " 65.40383987137025,\n",
       " 71.34504095805903,\n",
       " 70.28408880043554,\n",
       " 71.83411949926827,\n",
       " 66.34418389678142,\n",
       " 66.53886668948292,\n",
       " 61.84839760600185,\n",
       " 65.31342339437144]"
      ]
     },
     "execution_count": 24,
     "metadata": {},
     "output_type": "execute_result"
    }
   ],
   "source": [
    "#a look at the list of 50 mean squared errors\n",
    "mse_list_50"
   ]
  },
  {
   "cell_type": "markdown",
   "id": "f2d44870",
   "metadata": {},
   "source": [
    "## How does the mean of the mean squared errors compare to that from Step A?"
   ]
  },
  {
   "cell_type": "code",
   "execution_count": 29,
   "id": "25f00b52",
   "metadata": {},
   "outputs": [
    {
     "name": "stdout",
     "output_type": "stream",
     "text": [
      "Without Normalization\n",
      "\n",
      "Mean of all 50 Mean squared error values = 115.86157194804495\n",
      "Standard Deviation of all 50 Mean squared error values = 40.07537429387559\n"
     ]
    }
   ],
   "source": [
    "print(\"Without Normalization\")\n",
    "print(f\"\\nMean of all 50 Mean squared error values = 115.86157194804495\")\n",
    "print(f\"Standard Deviation of all 50 Mean squared error values = 40.07537429387559\")"
   ]
  },
  {
   "cell_type": "code",
   "execution_count": 28,
   "id": "5429110f",
   "metadata": {},
   "outputs": [
    {
     "name": "stdout",
     "output_type": "stream",
     "text": [
      "With Normalization\n",
      "\n",
      "Mean of all 50 Mean squared error values = 105.14580754892266\n",
      "Standard Deviation of all 50 Mean squared error values = 45.379225803390646\n"
     ]
    }
   ],
   "source": [
    "print(\"With Normalization\")\n",
    "print(f\"\\nMean of all 50 Mean squared error values = {mse_array_50_mean}\")\n",
    "print(f\"Standard Deviation of all 50 Mean squared error values = {mse_array_50_std}\")"
   ]
  },
  {
   "cell_type": "code",
   "execution_count": null,
   "id": "3a289fb8",
   "metadata": {},
   "outputs": [],
   "source": []
  }
 ],
 "metadata": {
  "kernelspec": {
   "display_name": "Python 3 (ipykernel)",
   "language": "python",
   "name": "python3"
  },
  "language_info": {
   "codemirror_mode": {
    "name": "ipython",
    "version": 3
   },
   "file_extension": ".py",
   "mimetype": "text/x-python",
   "name": "python",
   "nbconvert_exporter": "python",
   "pygments_lexer": "ipython3",
   "version": "3.7.13"
  }
 },
 "nbformat": 4,
 "nbformat_minor": 5
}
