{
 "cells": [
  {
   "cell_type": "markdown",
   "id": "8395554e",
   "metadata": {},
   "source": [
    "# C. Increate the number of epochs (5 marks)\n",
    "\n",
    "Repeat Part B but use 100 epochs this time for training.\n",
    "\n",
    "How does the mean of the mean squared errors compare to that from Step B?"
   ]
  },
  {
   "cell_type": "markdown",
   "id": "c044e4c3",
   "metadata": {},
   "source": [
    "# Regression model using Keras (Data normalized with epochs 100)"
   ]
  },
  {
   "cell_type": "markdown",
   "id": "56d80f0d",
   "metadata": {},
   "source": [
    "Lets import numpy and pandas to help us load and analyze data"
   ]
  },
  {
   "cell_type": "code",
   "execution_count": 1,
   "id": "45bdda92",
   "metadata": {},
   "outputs": [],
   "source": [
    "import numpy as np\n",
    "import pandas as pd"
   ]
  },
  {
   "cell_type": "code",
   "execution_count": 2,
   "id": "c0193a39",
   "metadata": {},
   "outputs": [
    {
     "data": {
      "text/html": [
       "<div>\n",
       "<style scoped>\n",
       "    .dataframe tbody tr th:only-of-type {\n",
       "        vertical-align: middle;\n",
       "    }\n",
       "\n",
       "    .dataframe tbody tr th {\n",
       "        vertical-align: top;\n",
       "    }\n",
       "\n",
       "    .dataframe thead th {\n",
       "        text-align: right;\n",
       "    }\n",
       "</style>\n",
       "<table border=\"1\" class=\"dataframe\">\n",
       "  <thead>\n",
       "    <tr style=\"text-align: right;\">\n",
       "      <th></th>\n",
       "      <th>Cement</th>\n",
       "      <th>Blast Furnace Slag</th>\n",
       "      <th>Fly Ash</th>\n",
       "      <th>Water</th>\n",
       "      <th>Superplasticizer</th>\n",
       "      <th>Coarse Aggregate</th>\n",
       "      <th>Fine Aggregate</th>\n",
       "      <th>Age</th>\n",
       "      <th>Strength</th>\n",
       "    </tr>\n",
       "  </thead>\n",
       "  <tbody>\n",
       "    <tr>\n",
       "      <th>0</th>\n",
       "      <td>540.0</td>\n",
       "      <td>0.0</td>\n",
       "      <td>0.0</td>\n",
       "      <td>162.0</td>\n",
       "      <td>2.5</td>\n",
       "      <td>1040.0</td>\n",
       "      <td>676.0</td>\n",
       "      <td>28</td>\n",
       "      <td>79.99</td>\n",
       "    </tr>\n",
       "    <tr>\n",
       "      <th>1</th>\n",
       "      <td>540.0</td>\n",
       "      <td>0.0</td>\n",
       "      <td>0.0</td>\n",
       "      <td>162.0</td>\n",
       "      <td>2.5</td>\n",
       "      <td>1055.0</td>\n",
       "      <td>676.0</td>\n",
       "      <td>28</td>\n",
       "      <td>61.89</td>\n",
       "    </tr>\n",
       "    <tr>\n",
       "      <th>2</th>\n",
       "      <td>332.5</td>\n",
       "      <td>142.5</td>\n",
       "      <td>0.0</td>\n",
       "      <td>228.0</td>\n",
       "      <td>0.0</td>\n",
       "      <td>932.0</td>\n",
       "      <td>594.0</td>\n",
       "      <td>270</td>\n",
       "      <td>40.27</td>\n",
       "    </tr>\n",
       "    <tr>\n",
       "      <th>3</th>\n",
       "      <td>332.5</td>\n",
       "      <td>142.5</td>\n",
       "      <td>0.0</td>\n",
       "      <td>228.0</td>\n",
       "      <td>0.0</td>\n",
       "      <td>932.0</td>\n",
       "      <td>594.0</td>\n",
       "      <td>365</td>\n",
       "      <td>41.05</td>\n",
       "    </tr>\n",
       "    <tr>\n",
       "      <th>4</th>\n",
       "      <td>198.6</td>\n",
       "      <td>132.4</td>\n",
       "      <td>0.0</td>\n",
       "      <td>192.0</td>\n",
       "      <td>0.0</td>\n",
       "      <td>978.4</td>\n",
       "      <td>825.5</td>\n",
       "      <td>360</td>\n",
       "      <td>44.30</td>\n",
       "    </tr>\n",
       "  </tbody>\n",
       "</table>\n",
       "</div>"
      ],
      "text/plain": [
       "   Cement  Blast Furnace Slag  Fly Ash  Water  Superplasticizer  \\\n",
       "0   540.0                 0.0      0.0  162.0               2.5   \n",
       "1   540.0                 0.0      0.0  162.0               2.5   \n",
       "2   332.5               142.5      0.0  228.0               0.0   \n",
       "3   332.5               142.5      0.0  228.0               0.0   \n",
       "4   198.6               132.4      0.0  192.0               0.0   \n",
       "\n",
       "   Coarse Aggregate  Fine Aggregate  Age  Strength  \n",
       "0            1040.0           676.0   28     79.99  \n",
       "1            1055.0           676.0   28     61.89  \n",
       "2             932.0           594.0  270     40.27  \n",
       "3             932.0           594.0  365     41.05  \n",
       "4             978.4           825.5  360     44.30  "
      ]
     },
     "execution_count": 2,
     "metadata": {},
     "output_type": "execute_result"
    }
   ],
   "source": [
    "#lets load the data, and take a look at the data using .head()\n",
    "data = pd.read_csv(\"concrete_data.csv\")\n",
    "data.head()\n"
   ]
  },
  {
   "cell_type": "code",
   "execution_count": 3,
   "id": "abd20514",
   "metadata": {},
   "outputs": [
    {
     "data": {
      "text/plain": [
       "(1030, 9)"
      ]
     },
     "execution_count": 3,
     "metadata": {},
     "output_type": "execute_result"
    }
   ],
   "source": [
    "#lets print the shape of the data (i.e. number of rows and columns)\n",
    "data.shape"
   ]
  },
  {
   "cell_type": "markdown",
   "id": "394d0bc9",
   "metadata": {},
   "source": [
    "Therefore, our dataset has 1030 rows and only 9 columns.\n",
    "Lets take a look at the data for any missing values before we start building the model using the data."
   ]
  },
  {
   "cell_type": "code",
   "execution_count": 4,
   "id": "f48e13bd",
   "metadata": {},
   "outputs": [
    {
     "data": {
      "text/html": [
       "<div>\n",
       "<style scoped>\n",
       "    .dataframe tbody tr th:only-of-type {\n",
       "        vertical-align: middle;\n",
       "    }\n",
       "\n",
       "    .dataframe tbody tr th {\n",
       "        vertical-align: top;\n",
       "    }\n",
       "\n",
       "    .dataframe thead th {\n",
       "        text-align: right;\n",
       "    }\n",
       "</style>\n",
       "<table border=\"1\" class=\"dataframe\">\n",
       "  <thead>\n",
       "    <tr style=\"text-align: right;\">\n",
       "      <th></th>\n",
       "      <th>Cement</th>\n",
       "      <th>Blast Furnace Slag</th>\n",
       "      <th>Fly Ash</th>\n",
       "      <th>Water</th>\n",
       "      <th>Superplasticizer</th>\n",
       "      <th>Coarse Aggregate</th>\n",
       "      <th>Fine Aggregate</th>\n",
       "      <th>Age</th>\n",
       "      <th>Strength</th>\n",
       "    </tr>\n",
       "  </thead>\n",
       "  <tbody>\n",
       "    <tr>\n",
       "      <th>count</th>\n",
       "      <td>1030.000000</td>\n",
       "      <td>1030.000000</td>\n",
       "      <td>1030.000000</td>\n",
       "      <td>1030.000000</td>\n",
       "      <td>1030.000000</td>\n",
       "      <td>1030.000000</td>\n",
       "      <td>1030.000000</td>\n",
       "      <td>1030.000000</td>\n",
       "      <td>1030.000000</td>\n",
       "    </tr>\n",
       "    <tr>\n",
       "      <th>mean</th>\n",
       "      <td>281.167864</td>\n",
       "      <td>73.895825</td>\n",
       "      <td>54.188350</td>\n",
       "      <td>181.567282</td>\n",
       "      <td>6.204660</td>\n",
       "      <td>972.918932</td>\n",
       "      <td>773.580485</td>\n",
       "      <td>45.662136</td>\n",
       "      <td>35.817961</td>\n",
       "    </tr>\n",
       "    <tr>\n",
       "      <th>std</th>\n",
       "      <td>104.506364</td>\n",
       "      <td>86.279342</td>\n",
       "      <td>63.997004</td>\n",
       "      <td>21.354219</td>\n",
       "      <td>5.973841</td>\n",
       "      <td>77.753954</td>\n",
       "      <td>80.175980</td>\n",
       "      <td>63.169912</td>\n",
       "      <td>16.705742</td>\n",
       "    </tr>\n",
       "    <tr>\n",
       "      <th>min</th>\n",
       "      <td>102.000000</td>\n",
       "      <td>0.000000</td>\n",
       "      <td>0.000000</td>\n",
       "      <td>121.800000</td>\n",
       "      <td>0.000000</td>\n",
       "      <td>801.000000</td>\n",
       "      <td>594.000000</td>\n",
       "      <td>1.000000</td>\n",
       "      <td>2.330000</td>\n",
       "    </tr>\n",
       "    <tr>\n",
       "      <th>25%</th>\n",
       "      <td>192.375000</td>\n",
       "      <td>0.000000</td>\n",
       "      <td>0.000000</td>\n",
       "      <td>164.900000</td>\n",
       "      <td>0.000000</td>\n",
       "      <td>932.000000</td>\n",
       "      <td>730.950000</td>\n",
       "      <td>7.000000</td>\n",
       "      <td>23.710000</td>\n",
       "    </tr>\n",
       "    <tr>\n",
       "      <th>50%</th>\n",
       "      <td>272.900000</td>\n",
       "      <td>22.000000</td>\n",
       "      <td>0.000000</td>\n",
       "      <td>185.000000</td>\n",
       "      <td>6.400000</td>\n",
       "      <td>968.000000</td>\n",
       "      <td>779.500000</td>\n",
       "      <td>28.000000</td>\n",
       "      <td>34.445000</td>\n",
       "    </tr>\n",
       "    <tr>\n",
       "      <th>75%</th>\n",
       "      <td>350.000000</td>\n",
       "      <td>142.950000</td>\n",
       "      <td>118.300000</td>\n",
       "      <td>192.000000</td>\n",
       "      <td>10.200000</td>\n",
       "      <td>1029.400000</td>\n",
       "      <td>824.000000</td>\n",
       "      <td>56.000000</td>\n",
       "      <td>46.135000</td>\n",
       "    </tr>\n",
       "    <tr>\n",
       "      <th>max</th>\n",
       "      <td>540.000000</td>\n",
       "      <td>359.400000</td>\n",
       "      <td>200.100000</td>\n",
       "      <td>247.000000</td>\n",
       "      <td>32.200000</td>\n",
       "      <td>1145.000000</td>\n",
       "      <td>992.600000</td>\n",
       "      <td>365.000000</td>\n",
       "      <td>82.600000</td>\n",
       "    </tr>\n",
       "  </tbody>\n",
       "</table>\n",
       "</div>"
      ],
      "text/plain": [
       "            Cement  Blast Furnace Slag      Fly Ash        Water  \\\n",
       "count  1030.000000         1030.000000  1030.000000  1030.000000   \n",
       "mean    281.167864           73.895825    54.188350   181.567282   \n",
       "std     104.506364           86.279342    63.997004    21.354219   \n",
       "min     102.000000            0.000000     0.000000   121.800000   \n",
       "25%     192.375000            0.000000     0.000000   164.900000   \n",
       "50%     272.900000           22.000000     0.000000   185.000000   \n",
       "75%     350.000000          142.950000   118.300000   192.000000   \n",
       "max     540.000000          359.400000   200.100000   247.000000   \n",
       "\n",
       "       Superplasticizer  Coarse Aggregate  Fine Aggregate          Age  \\\n",
       "count       1030.000000       1030.000000     1030.000000  1030.000000   \n",
       "mean           6.204660        972.918932      773.580485    45.662136   \n",
       "std            5.973841         77.753954       80.175980    63.169912   \n",
       "min            0.000000        801.000000      594.000000     1.000000   \n",
       "25%            0.000000        932.000000      730.950000     7.000000   \n",
       "50%            6.400000        968.000000      779.500000    28.000000   \n",
       "75%           10.200000       1029.400000      824.000000    56.000000   \n",
       "max           32.200000       1145.000000      992.600000   365.000000   \n",
       "\n",
       "          Strength  \n",
       "count  1030.000000  \n",
       "mean     35.817961  \n",
       "std      16.705742  \n",
       "min       2.330000  \n",
       "25%      23.710000  \n",
       "50%      34.445000  \n",
       "75%      46.135000  \n",
       "max      82.600000  "
      ]
     },
     "execution_count": 4,
     "metadata": {},
     "output_type": "execute_result"
    }
   ],
   "source": [
    "data.describe()\n"
   ]
  },
  {
   "cell_type": "code",
   "execution_count": 5,
   "id": "06911fcb",
   "metadata": {},
   "outputs": [
    {
     "data": {
      "text/plain": [
       "Cement                0\n",
       "Blast Furnace Slag    0\n",
       "Fly Ash               0\n",
       "Water                 0\n",
       "Superplasticizer      0\n",
       "Coarse Aggregate      0\n",
       "Fine Aggregate        0\n",
       "Age                   0\n",
       "Strength              0\n",
       "dtype: int64"
      ]
     },
     "execution_count": 5,
     "metadata": {},
     "output_type": "execute_result"
    }
   ],
   "source": [
    "data.isnull().sum()"
   ]
  },
  {
   "cell_type": "markdown",
   "id": "74e6d49e",
   "metadata": {},
   "source": [
    "The data looks good so far, therfore we can begin the next steps."
   ]
  },
  {
   "cell_type": "markdown",
   "id": "5ac2315a",
   "metadata": {},
   "source": [
    "Since, for the first part, we are not to normalioze the data, I will jump straight to splitting the dataset."
   ]
  },
  {
   "cell_type": "markdown",
   "id": "ed7b9a4a",
   "metadata": {},
   "source": [
    "### Lets divide our dataset into predictors (X) and target variable (y) (independent and dependent variable)"
   ]
  },
  {
   "cell_type": "code",
   "execution_count": 6,
   "id": "840a2fa3",
   "metadata": {},
   "outputs": [
    {
     "data": {
      "text/html": [
       "<div>\n",
       "<style scoped>\n",
       "    .dataframe tbody tr th:only-of-type {\n",
       "        vertical-align: middle;\n",
       "    }\n",
       "\n",
       "    .dataframe tbody tr th {\n",
       "        vertical-align: top;\n",
       "    }\n",
       "\n",
       "    .dataframe thead th {\n",
       "        text-align: right;\n",
       "    }\n",
       "</style>\n",
       "<table border=\"1\" class=\"dataframe\">\n",
       "  <thead>\n",
       "    <tr style=\"text-align: right;\">\n",
       "      <th></th>\n",
       "      <th>Cement</th>\n",
       "      <th>Blast Furnace Slag</th>\n",
       "      <th>Fly Ash</th>\n",
       "      <th>Water</th>\n",
       "      <th>Superplasticizer</th>\n",
       "      <th>Coarse Aggregate</th>\n",
       "      <th>Fine Aggregate</th>\n",
       "      <th>Age</th>\n",
       "    </tr>\n",
       "  </thead>\n",
       "  <tbody>\n",
       "    <tr>\n",
       "      <th>0</th>\n",
       "      <td>540.0</td>\n",
       "      <td>0.0</td>\n",
       "      <td>0.0</td>\n",
       "      <td>162.0</td>\n",
       "      <td>2.5</td>\n",
       "      <td>1040.0</td>\n",
       "      <td>676.0</td>\n",
       "      <td>28</td>\n",
       "    </tr>\n",
       "    <tr>\n",
       "      <th>1</th>\n",
       "      <td>540.0</td>\n",
       "      <td>0.0</td>\n",
       "      <td>0.0</td>\n",
       "      <td>162.0</td>\n",
       "      <td>2.5</td>\n",
       "      <td>1055.0</td>\n",
       "      <td>676.0</td>\n",
       "      <td>28</td>\n",
       "    </tr>\n",
       "    <tr>\n",
       "      <th>2</th>\n",
       "      <td>332.5</td>\n",
       "      <td>142.5</td>\n",
       "      <td>0.0</td>\n",
       "      <td>228.0</td>\n",
       "      <td>0.0</td>\n",
       "      <td>932.0</td>\n",
       "      <td>594.0</td>\n",
       "      <td>270</td>\n",
       "    </tr>\n",
       "    <tr>\n",
       "      <th>3</th>\n",
       "      <td>332.5</td>\n",
       "      <td>142.5</td>\n",
       "      <td>0.0</td>\n",
       "      <td>228.0</td>\n",
       "      <td>0.0</td>\n",
       "      <td>932.0</td>\n",
       "      <td>594.0</td>\n",
       "      <td>365</td>\n",
       "    </tr>\n",
       "    <tr>\n",
       "      <th>4</th>\n",
       "      <td>198.6</td>\n",
       "      <td>132.4</td>\n",
       "      <td>0.0</td>\n",
       "      <td>192.0</td>\n",
       "      <td>0.0</td>\n",
       "      <td>978.4</td>\n",
       "      <td>825.5</td>\n",
       "      <td>360</td>\n",
       "    </tr>\n",
       "  </tbody>\n",
       "</table>\n",
       "</div>"
      ],
      "text/plain": [
       "   Cement  Blast Furnace Slag  Fly Ash  Water  Superplasticizer  \\\n",
       "0   540.0                 0.0      0.0  162.0               2.5   \n",
       "1   540.0                 0.0      0.0  162.0               2.5   \n",
       "2   332.5               142.5      0.0  228.0               0.0   \n",
       "3   332.5               142.5      0.0  228.0               0.0   \n",
       "4   198.6               132.4      0.0  192.0               0.0   \n",
       "\n",
       "   Coarse Aggregate  Fine Aggregate  Age  \n",
       "0            1040.0           676.0   28  \n",
       "1            1055.0           676.0   28  \n",
       "2             932.0           594.0  270  \n",
       "3             932.0           594.0  365  \n",
       "4             978.4           825.5  360  "
      ]
     },
     "execution_count": 6,
     "metadata": {},
     "output_type": "execute_result"
    }
   ],
   "source": [
    "X = data[['Cement','Blast Furnace Slag','Fly Ash',\n",
    "                  'Water','Superplasticizer','Coarse Aggregate','Fine Aggregate','Age']]\n",
    "\n",
    "X.head()"
   ]
  },
  {
   "cell_type": "code",
   "execution_count": 7,
   "id": "94e56754",
   "metadata": {},
   "outputs": [
    {
     "data": {
      "text/html": [
       "<div>\n",
       "<style scoped>\n",
       "    .dataframe tbody tr th:only-of-type {\n",
       "        vertical-align: middle;\n",
       "    }\n",
       "\n",
       "    .dataframe tbody tr th {\n",
       "        vertical-align: top;\n",
       "    }\n",
       "\n",
       "    .dataframe thead th {\n",
       "        text-align: right;\n",
       "    }\n",
       "</style>\n",
       "<table border=\"1\" class=\"dataframe\">\n",
       "  <thead>\n",
       "    <tr style=\"text-align: right;\">\n",
       "      <th></th>\n",
       "      <th>Strength</th>\n",
       "    </tr>\n",
       "  </thead>\n",
       "  <tbody>\n",
       "    <tr>\n",
       "      <th>0</th>\n",
       "      <td>79.99</td>\n",
       "    </tr>\n",
       "    <tr>\n",
       "      <th>1</th>\n",
       "      <td>61.89</td>\n",
       "    </tr>\n",
       "    <tr>\n",
       "      <th>2</th>\n",
       "      <td>40.27</td>\n",
       "    </tr>\n",
       "    <tr>\n",
       "      <th>3</th>\n",
       "      <td>41.05</td>\n",
       "    </tr>\n",
       "    <tr>\n",
       "      <th>4</th>\n",
       "      <td>44.30</td>\n",
       "    </tr>\n",
       "  </tbody>\n",
       "</table>\n",
       "</div>"
      ],
      "text/plain": [
       "   Strength\n",
       "0     79.99\n",
       "1     61.89\n",
       "2     40.27\n",
       "3     41.05\n",
       "4     44.30"
      ]
     },
     "execution_count": 7,
     "metadata": {},
     "output_type": "execute_result"
    }
   ],
   "source": [
    "y = data[['Strength']]\n",
    "y.head()"
   ]
  },
  {
   "cell_type": "markdown",
   "id": "6173c520",
   "metadata": {},
   "source": [
    "### Lets convert both, X and y into arrays"
   ]
  },
  {
   "cell_type": "code",
   "execution_count": 8,
   "id": "d722435c",
   "metadata": {},
   "outputs": [
    {
     "data": {
      "text/plain": [
       "array([[ 540. ,    0. ,    0. , ..., 1040. ,  676. ,   28. ],\n",
       "       [ 540. ,    0. ,    0. , ..., 1055. ,  676. ,   28. ],\n",
       "       [ 332.5,  142.5,    0. , ...,  932. ,  594. ,  270. ],\n",
       "       ...,\n",
       "       [ 148.5,  139.4,  108.6, ...,  892.4,  780. ,   28. ],\n",
       "       [ 159.1,  186.7,    0. , ...,  989.6,  788.9,   28. ],\n",
       "       [ 260.9,  100.5,   78.3, ...,  864.5,  761.5,   28. ]])"
      ]
     },
     "execution_count": 8,
     "metadata": {},
     "output_type": "execute_result"
    }
   ],
   "source": [
    "X = X.values\n",
    "X"
   ]
  },
  {
   "cell_type": "code",
   "execution_count": 9,
   "id": "aaedeff8",
   "metadata": {},
   "outputs": [
    {
     "data": {
      "text/plain": [
       "array([[79.99],\n",
       "       [61.89],\n",
       "       [40.27],\n",
       "       ...,\n",
       "       [23.7 ],\n",
       "       [32.77],\n",
       "       [32.4 ]])"
      ]
     },
     "execution_count": 9,
     "metadata": {},
     "output_type": "execute_result"
    }
   ],
   "source": [
    "y = y.values\n",
    "y"
   ]
  },
  {
   "cell_type": "markdown",
   "id": "c546077d",
   "metadata": {},
   "source": [
    "## Lets Normalize the X (independent variables/predictors)"
   ]
  },
  {
   "cell_type": "code",
   "execution_count": 10,
   "id": "1a282383",
   "metadata": {},
   "outputs": [],
   "source": [
    "X_normalized = (X - X.mean()) / X.std() "
   ]
  },
  {
   "cell_type": "code",
   "execution_count": 11,
   "id": "89a675c0",
   "metadata": {},
   "outputs": [
    {
     "name": "stdout",
     "output_type": "stream",
     "text": [
      "(1030, 8)\n",
      "(1030, 8)\n"
     ]
    }
   ],
   "source": [
    "print(X_normalized.shape)\n",
    "print(X.shape)"
   ]
  },
  {
   "cell_type": "markdown",
   "id": "a718ca6e",
   "metadata": {},
   "source": [
    "### Now that we have both, the target and predictor variabels, lets move onto splitting our dataset.\n"
   ]
  },
  {
   "cell_type": "code",
   "execution_count": 12,
   "id": "465ed22b",
   "metadata": {},
   "outputs": [
    {
     "name": "stdout",
     "output_type": "stream",
     "text": [
      "Train Set = (721, 8),(721, 1)\n",
      "Test Set = (309, 8),(309, 1)\n"
     ]
    }
   ],
   "source": [
    "from sklearn import preprocessing\n",
    "from sklearn.model_selection import train_test_split\n",
    "\n",
    "X_train, X_test, y_train, y_test = train_test_split( X_normalized, y, test_size=0.3, random_state=42)\n",
    "print(f\"Train Set = {X_train.shape},{y_train.shape}\")\n",
    "print(f\"Test Set = {X_test.shape},{y_test.shape}\")"
   ]
  },
  {
   "cell_type": "markdown",
   "id": "f0323d4f",
   "metadata": {},
   "source": [
    "30% of the dataset has been reserved for testing as per the instructions"
   ]
  },
  {
   "cell_type": "markdown",
   "id": "0f8ac532",
   "metadata": {},
   "source": [
    "### Lets import some important libraries for building our model"
   ]
  },
  {
   "cell_type": "code",
   "execution_count": 13,
   "id": "d37d4ac9",
   "metadata": {},
   "outputs": [],
   "source": [
    "import tensorflow\n",
    "\n",
    "from tensorflow.keras.models import Sequential\n",
    "from tensorflow.keras.layers import Dense\n",
    "from tensorflow.keras.utils import to_categorical"
   ]
  },
  {
   "cell_type": "code",
   "execution_count": 14,
   "id": "5cbb97a3",
   "metadata": {},
   "outputs": [
    {
     "name": "stdout",
     "output_type": "stream",
     "text": [
      "8\n"
     ]
    }
   ],
   "source": [
    "#lets define n_cols to be the size of the number of variables in X\n",
    "n_cols = X_test.shape[1]\n",
    "print(n_cols)"
   ]
  },
  {
   "cell_type": "markdown",
   "id": "4ec64726",
   "metadata": {},
   "source": [
    "#### Therefore, we will have 8 nodes in the input layer of the ANN."
   ]
  },
  {
   "cell_type": "code",
   "execution_count": 15,
   "id": "8fe960e3",
   "metadata": {},
   "outputs": [],
   "source": [
    "#lets create our model\n",
    "def regression_model():\n",
    "    # create the model\n",
    "    model = tensorflow.keras.Sequential()\n",
    "    model.add(Dense(10, activation='relu', input_shape=(n_cols,)))\n",
    "    model.add(Dense(1))\n",
    "    \n",
    "    # compile thye model\n",
    "    model.compile(optimizer='adam', loss='mean_squared_error')\n",
    "    return model\n"
   ]
  },
  {
   "cell_type": "markdown",
   "id": "f78ed871",
   "metadata": {},
   "source": [
    "The above function creates a model that has one hidden layer with 10 neurons and uses ReLU activation function. It uses the adam optimizer and the mean squared error as the loss function, as per instructions."
   ]
  },
  {
   "cell_type": "code",
   "execution_count": 25,
   "id": "734400d1",
   "metadata": {},
   "outputs": [],
   "source": [
    "#lets build the model\n",
    "model = regression_model()"
   ]
  },
  {
   "cell_type": "markdown",
   "id": "a0ad4755",
   "metadata": {},
   "source": [
    "Lets train the model with 100 epochs"
   ]
  },
  {
   "cell_type": "code",
   "execution_count": 17,
   "id": "b8c46f96",
   "metadata": {},
   "outputs": [
    {
     "name": "stdout",
     "output_type": "stream",
     "text": [
      "Train on 721 samples\n",
      "Epoch 1/100\n",
      "721/721 - 0s - loss: 1543.6724\n",
      "Epoch 2/100\n",
      "721/721 - 0s - loss: 1525.0633\n",
      "Epoch 3/100\n",
      "721/721 - 0s - loss: 1505.2315\n",
      "Epoch 4/100\n",
      "721/721 - 0s - loss: 1483.4702\n",
      "Epoch 5/100\n",
      "721/721 - 0s - loss: 1459.7623\n",
      "Epoch 6/100\n",
      "721/721 - 0s - loss: 1433.4118\n",
      "Epoch 7/100\n",
      "721/721 - 0s - loss: 1404.6180\n",
      "Epoch 8/100\n",
      "721/721 - 0s - loss: 1373.1280\n",
      "Epoch 9/100\n",
      "721/721 - 0s - loss: 1339.1406\n",
      "Epoch 10/100\n",
      "721/721 - 0s - loss: 1302.6001\n",
      "Epoch 11/100\n",
      "721/721 - 0s - loss: 1264.0459\n",
      "Epoch 12/100\n",
      "721/721 - 0s - loss: 1223.5063\n",
      "Epoch 13/100\n",
      "721/721 - 0s - loss: 1181.4640\n",
      "Epoch 14/100\n",
      "721/721 - 0s - loss: 1137.7886\n",
      "Epoch 15/100\n",
      "721/721 - 0s - loss: 1093.0291\n",
      "Epoch 16/100\n",
      "721/721 - 0s - loss: 1047.9777\n",
      "Epoch 17/100\n",
      "721/721 - 0s - loss: 1001.6471\n",
      "Epoch 18/100\n",
      "721/721 - 0s - loss: 955.8425\n",
      "Epoch 19/100\n",
      "721/721 - 0s - loss: 909.9379\n",
      "Epoch 20/100\n",
      "721/721 - 0s - loss: 864.5354\n",
      "Epoch 21/100\n",
      "721/721 - 0s - loss: 820.0597\n",
      "Epoch 22/100\n",
      "721/721 - 0s - loss: 776.2470\n",
      "Epoch 23/100\n",
      "721/721 - 0s - loss: 734.2465\n",
      "Epoch 24/100\n",
      "721/721 - 0s - loss: 693.3946\n",
      "Epoch 25/100\n",
      "721/721 - 0s - loss: 654.8371\n",
      "Epoch 26/100\n",
      "721/721 - 0s - loss: 617.2849\n",
      "Epoch 27/100\n",
      "721/721 - 0s - loss: 582.4368\n",
      "Epoch 28/100\n",
      "721/721 - 0s - loss: 549.6966\n",
      "Epoch 29/100\n",
      "721/721 - 0s - loss: 519.1834\n",
      "Epoch 30/100\n",
      "721/721 - 0s - loss: 491.5122\n",
      "Epoch 31/100\n",
      "721/721 - 0s - loss: 465.5595\n",
      "Epoch 32/100\n",
      "721/721 - 0s - loss: 442.2519\n",
      "Epoch 33/100\n",
      "721/721 - 0s - loss: 420.9103\n",
      "Epoch 34/100\n",
      "721/721 - 0s - loss: 402.4143\n",
      "Epoch 35/100\n",
      "721/721 - 0s - loss: 385.2745\n",
      "Epoch 36/100\n",
      "721/721 - 0s - loss: 370.7363\n",
      "Epoch 37/100\n",
      "721/721 - 0s - loss: 357.4314\n",
      "Epoch 38/100\n",
      "721/721 - 0s - loss: 346.4741\n",
      "Epoch 39/100\n",
      "721/721 - 0s - loss: 336.4896\n",
      "Epoch 40/100\n",
      "721/721 - 0s - loss: 328.2698\n",
      "Epoch 41/100\n",
      "721/721 - 0s - loss: 321.3545\n",
      "Epoch 42/100\n",
      "721/721 - 0s - loss: 315.1348\n",
      "Epoch 43/100\n",
      "721/721 - 0s - loss: 310.2254\n",
      "Epoch 44/100\n",
      "721/721 - 0s - loss: 305.8506\n",
      "Epoch 45/100\n",
      "721/721 - 0s - loss: 302.3049\n",
      "Epoch 46/100\n",
      "721/721 - 0s - loss: 299.2758\n",
      "Epoch 47/100\n",
      "721/721 - 0s - loss: 296.8286\n",
      "Epoch 48/100\n",
      "721/721 - 0s - loss: 294.7239\n",
      "Epoch 49/100\n",
      "721/721 - 0s - loss: 292.8010\n",
      "Epoch 50/100\n",
      "721/721 - 0s - loss: 291.3545\n",
      "Epoch 51/100\n",
      "721/721 - 0s - loss: 289.9846\n",
      "Epoch 52/100\n",
      "721/721 - 0s - loss: 288.8902\n",
      "Epoch 53/100\n",
      "721/721 - 0s - loss: 287.8282\n",
      "Epoch 54/100\n",
      "721/721 - 0s - loss: 286.9693\n",
      "Epoch 55/100\n",
      "721/721 - 0s - loss: 286.0481\n",
      "Epoch 56/100\n",
      "721/721 - 0s - loss: 285.2094\n",
      "Epoch 57/100\n",
      "721/721 - 0s - loss: 284.4085\n",
      "Epoch 58/100\n",
      "721/721 - 0s - loss: 283.6572\n",
      "Epoch 59/100\n",
      "721/721 - 0s - loss: 282.8083\n",
      "Epoch 60/100\n",
      "721/721 - 0s - loss: 282.0807\n",
      "Epoch 61/100\n",
      "721/721 - 0s - loss: 281.3186\n",
      "Epoch 62/100\n",
      "721/721 - 0s - loss: 280.5570\n",
      "Epoch 63/100\n",
      "721/721 - 0s - loss: 279.7930\n",
      "Epoch 64/100\n",
      "721/721 - 0s - loss: 279.0003\n",
      "Epoch 65/100\n",
      "721/721 - 0s - loss: 278.2581\n",
      "Epoch 66/100\n",
      "721/721 - 0s - loss: 277.4412\n",
      "Epoch 67/100\n",
      "721/721 - 0s - loss: 276.6433\n",
      "Epoch 68/100\n",
      "721/721 - 0s - loss: 275.8786\n",
      "Epoch 69/100\n",
      "721/721 - 0s - loss: 275.0244\n",
      "Epoch 70/100\n",
      "721/721 - 0s - loss: 274.2073\n",
      "Epoch 71/100\n",
      "721/721 - 0s - loss: 273.4325\n",
      "Epoch 72/100\n",
      "721/721 - 0s - loss: 272.5606\n",
      "Epoch 73/100\n",
      "721/721 - 0s - loss: 271.7674\n",
      "Epoch 74/100\n",
      "721/721 - 0s - loss: 271.0922\n",
      "Epoch 75/100\n",
      "721/721 - 0s - loss: 270.1516\n",
      "Epoch 76/100\n",
      "721/721 - 0s - loss: 269.2482\n",
      "Epoch 77/100\n",
      "721/721 - 0s - loss: 268.4284\n",
      "Epoch 78/100\n",
      "721/721 - 0s - loss: 267.5668\n",
      "Epoch 79/100\n",
      "721/721 - 0s - loss: 266.7504\n",
      "Epoch 80/100\n",
      "721/721 - 0s - loss: 265.9124\n",
      "Epoch 81/100\n",
      "721/721 - 0s - loss: 265.1052\n",
      "Epoch 82/100\n",
      "721/721 - 0s - loss: 264.2788\n",
      "Epoch 83/100\n",
      "721/721 - 0s - loss: 263.4536\n",
      "Epoch 84/100\n",
      "721/721 - 0s - loss: 262.5902\n",
      "Epoch 85/100\n",
      "721/721 - 0s - loss: 261.8191\n",
      "Epoch 86/100\n",
      "721/721 - 0s - loss: 260.9425\n",
      "Epoch 87/100\n",
      "721/721 - 0s - loss: 260.0846\n",
      "Epoch 88/100\n",
      "721/721 - 0s - loss: 259.2612\n",
      "Epoch 89/100\n",
      "721/721 - 0s - loss: 258.4701\n",
      "Epoch 90/100\n",
      "721/721 - 0s - loss: 257.7048\n",
      "Epoch 91/100\n",
      "721/721 - 0s - loss: 256.8352\n",
      "Epoch 92/100\n",
      "721/721 - 0s - loss: 255.9737\n",
      "Epoch 93/100\n",
      "721/721 - 0s - loss: 255.2849\n",
      "Epoch 94/100\n",
      "721/721 - 0s - loss: 254.3299\n",
      "Epoch 95/100\n",
      "721/721 - 0s - loss: 253.6296\n",
      "Epoch 96/100\n",
      "721/721 - 0s - loss: 252.7379\n",
      "Epoch 97/100\n",
      "721/721 - 0s - loss: 252.0681\n",
      "Epoch 98/100\n",
      "721/721 - 0s - loss: 251.2676\n",
      "Epoch 99/100\n",
      "721/721 - 0s - loss: 250.8127\n",
      "Epoch 100/100\n",
      "721/721 - 0s - loss: 249.6064\n"
     ]
    },
    {
     "data": {
      "text/plain": [
       "<tensorflow.python.keras.callbacks.History at 0x7f93a9618ad0>"
      ]
     },
     "execution_count": 17,
     "metadata": {},
     "output_type": "execute_result"
    }
   ],
   "source": [
    "# fit the model\n",
    "epochs = 100\n",
    "model.fit(X_train, y_train, epochs=epochs, verbose=2)"
   ]
  },
  {
   "cell_type": "code",
   "execution_count": 18,
   "id": "16126295",
   "metadata": {},
   "outputs": [
    {
     "name": "stdout",
     "output_type": "stream",
     "text": [
      "309/1 - 0s - loss: 217.8162\n"
     ]
    },
    {
     "data": {
      "text/plain": [
       "246.53869426443353"
      ]
     },
     "execution_count": 18,
     "metadata": {},
     "output_type": "execute_result"
    }
   ],
   "source": [
    "#Lets evaluate the model now:\n",
    "\n",
    "loss_ = model.evaluate(X_test, y_test, verbose  =2)\n",
    "y_pred = model.predict(X_test)\n",
    "loss_\n",
    "\n"
   ]
  },
  {
   "cell_type": "markdown",
   "id": "1272b8de",
   "metadata": {},
   "source": [
    "\n",
    "\n",
    "Now we need to compute the mean squared error between the predicted concrete strength and the actual concrete strength.\n",
    "\n",
    "Let's import the mean_squared_error function from Scikit-learn.\n",
    "\n"
   ]
  },
  {
   "cell_type": "code",
   "execution_count": 19,
   "id": "d270776c",
   "metadata": {},
   "outputs": [],
   "source": [
    "from sklearn.metrics import mean_squared_error"
   ]
  },
  {
   "cell_type": "code",
   "execution_count": 20,
   "id": "fafb5f7b",
   "metadata": {},
   "outputs": [
    {
     "name": "stdout",
     "output_type": "stream",
     "text": [
      "Mean of MSE = 246.53869985959182\n",
      "Standard Deviation of MSE = 0.0\n"
     ]
    }
   ],
   "source": [
    "mean_square_error = mean_squared_error(y_test, y_pred)\n",
    "mean = np.mean(mean_square_error)\n",
    "standard_deviation = np.std(mean_square_error)\n",
    "print(f\"Mean of MSE = {mean}\")\n",
    "print(f\"Standard Deviation of MSE = {standard_deviation}\")"
   ]
  },
  {
   "cell_type": "markdown",
   "id": "79301e30",
   "metadata": {},
   "source": [
    "### Now, we will repeat steps 1 - 3, 50 times, i.e., create a list of 50 mean squared errors and calculate the mean and Standard deviation of the list."
   ]
  },
  {
   "cell_type": "code",
   "execution_count": 21,
   "id": "33c81757",
   "metadata": {},
   "outputs": [
    {
     "name": "stdout",
     "output_type": "stream",
     "text": [
      " 1: MSE = 236.84799564694896\n",
      " 2: MSE = 203.99897301930054\n",
      " 3: MSE = 181.88434099610956\n",
      " 4: MSE = 160.05496457788166\n",
      " 5: MSE = 132.1591489230159\n",
      " 6: MSE = 106.0733888990285\n",
      " 7: MSE = 118.07195136307898\n",
      " 8: MSE = 88.93317163955047\n",
      " 9: MSE = 101.44817502907564\n",
      " 10: MSE = 90.62083760974477\n",
      " 11: MSE = 82.0717632701096\n",
      " 12: MSE = 72.30988803110462\n",
      " 13: MSE = 81.49140453647256\n",
      " 14: MSE = 80.86082895519664\n",
      " 15: MSE = 72.2196870081633\n",
      " 16: MSE = 59.94403839111328\n",
      " 17: MSE = 66.58282897850457\n",
      " 18: MSE = 59.575076353202746\n",
      " 19: MSE = 53.23358559222669\n",
      " 20: MSE = 64.38335769307652\n",
      " 21: MSE = 53.90175147195464\n",
      " 22: MSE = 53.3521104954593\n",
      " 23: MSE = 51.796442507154346\n",
      " 24: MSE = 49.195285142818314\n",
      " 25: MSE = 50.82791908041945\n",
      " 26: MSE = 49.758763557113106\n",
      " 27: MSE = 50.6227720069268\n",
      " 28: MSE = 49.535190866217256\n",
      " 29: MSE = 54.11487567000405\n",
      " 30: MSE = 48.872108570580345\n",
      " 31: MSE = 46.58675730189845\n",
      " 32: MSE = 44.68258185525542\n",
      " 33: MSE = 44.858199134999495\n",
      " 34: MSE = 48.38930071981979\n",
      " 35: MSE = 48.20616426437032\n",
      " 36: MSE = 53.74377131539255\n",
      " 37: MSE = 50.839834509544005\n",
      " 38: MSE = 52.40538171811397\n",
      " 39: MSE = 46.19766773606581\n",
      " 40: MSE = 43.13790597267521\n",
      " 41: MSE = 49.08728334741685\n",
      " 42: MSE = 43.194976535044056\n",
      " 43: MSE = 45.80854752302941\n",
      " 44: MSE = 51.53484704965141\n",
      " 45: MSE = 50.75570557727011\n",
      " 46: MSE = 50.998364988654174\n",
      " 47: MSE = 50.85958682063328\n",
      " 48: MSE = 47.88379944489612\n",
      " 49: MSE = 51.79501599555648\n",
      " 50: MSE = 49.46659196773393\n",
      "Mean of all 50 Mean squared error values = 71.90349752100936\n",
      "Standard Deviation of all 50 Mean squared error values = 42.28821962650301\n"
     ]
    }
   ],
   "source": [
    "z =1 #for indexing \n",
    "mse_list_50 = [] #empty list for the 50 values \n",
    "model = regression_model()\n",
    "epochs = 100\n",
    "for x in range(50):\n",
    "    \n",
    "    X_train, X_test, y_train, y_test = train_test_split(X_normalized, y, test_size=0.3, random_state=x)\n",
    "    model.fit(X_train, y_train, epochs=epochs, verbose=0)\n",
    "    loss_1 = model.evaluate(X_test, y_test, verbose  =0)\n",
    "    print(f\" {z}: MSE = {loss_1}\")\n",
    "    y_pred1 = model.predict(X_test)\n",
    "    mean_square_error = mean_squared_error(y_test, y_pred1)\n",
    "    mse_list_50.append(mean_square_error)\n",
    "    z += 1\n",
    "    \n",
    "#lets convert the list mse_list_50 into array before we calculate the mean and the standard deviation of the mean squared errors.\n",
    "mse_array_50 = np.array(mse_list_50)\n",
    "mse_array_50_mean = np.mean(mse_array_50)\n",
    "mse_array_50_std = np.std(mse_array_50)\n",
    "print(f\"Mean of all 50 Mean squared error values = {mse_array_50_mean}\")\n",
    "print(f\"Standard Deviation of all 50 Mean squared error values = {mse_array_50_std}\")"
   ]
  },
  {
   "cell_type": "code",
   "execution_count": 22,
   "id": "a182ce1c",
   "metadata": {},
   "outputs": [
    {
     "data": {
      "text/plain": [
       "[236.84799462734708,\n",
       " 203.9989726439307,\n",
       " 181.8843332357169,\n",
       " 160.05495830980843,\n",
       " 132.15914691125798,\n",
       " 106.07339026307939,\n",
       " 118.07194858819075,\n",
       " 88.93317288673165,\n",
       " 101.44817528694978,\n",
       " 90.6208364649111,\n",
       " 82.07176238243215,\n",
       " 72.30988675026855,\n",
       " 81.49140527437089,\n",
       " 80.86082887640795,\n",
       " 72.2196871251297,\n",
       " 59.94403722259976,\n",
       " 66.58282703297684,\n",
       " 59.57507283702592,\n",
       " 53.23358665727842,\n",
       " 64.38335691569061,\n",
       " 53.901750069920865,\n",
       " 53.35210929509781,\n",
       " 51.796441299697456,\n",
       " 49.19528705814005,\n",
       " 50.82791717004377,\n",
       " 49.75876431167775,\n",
       " 50.622771758489684,\n",
       " 49.53518768608867,\n",
       " 54.11487616941146,\n",
       " 48.872107027132536,\n",
       " 46.586758747327,\n",
       " 44.68258180616781,\n",
       " 44.85819924151685,\n",
       " 48.389301050091355,\n",
       " 48.20616259531685,\n",
       " 53.74377320424668,\n",
       " 50.8398340628905,\n",
       " 52.40538248400962,\n",
       " 46.19766637871455,\n",
       " 43.13790491985813,\n",
       " 49.087282267805314,\n",
       " 43.194975302007755,\n",
       " 45.808549059001656,\n",
       " 51.53484612355477,\n",
       " 50.75570699285552,\n",
       " 50.99836415122469,\n",
       " 50.85958848424584,\n",
       " 47.883798858434254,\n",
       " 51.79501603711131,\n",
       " 49.466592146282615]"
      ]
     },
     "execution_count": 22,
     "metadata": {},
     "output_type": "execute_result"
    }
   ],
   "source": [
    "#a look at the list of 50 mean squared errors\n",
    "mse_list_50"
   ]
  },
  {
   "cell_type": "markdown",
   "id": "f2d44870",
   "metadata": {},
   "source": [
    "## How does the mean of the mean squared errors compare to that from Step B?"
   ]
  },
  {
   "cell_type": "code",
   "execution_count": 28,
   "id": "25f00b52",
   "metadata": {},
   "outputs": [
    {
     "name": "stdout",
     "output_type": "stream",
     "text": [
      "With epochs 50- Part B\n",
      "\n",
      "Mean of all 50 Mean squared error values = 105.14580754892266\n",
      "Standard Deviation of all 50 Mean squared error values = 45.379225803390646\n"
     ]
    }
   ],
   "source": [
    "print(\"With epochs 50- Part B\")\n",
    "print(f\"\\nMean of all 50 Mean squared error values = 105.14580754892266\")\n",
    "print(f\"Standard Deviation of all 50 Mean squared error values = 45.379225803390646\")"
   ]
  },
  {
   "cell_type": "code",
   "execution_count": 30,
   "id": "5429110f",
   "metadata": {},
   "outputs": [
    {
     "name": "stdout",
     "output_type": "stream",
     "text": [
      "With epochs 100- Part C\n",
      "\n",
      "Mean of all 50 Mean squared error values = 71.90349752100936\n",
      "Standard Deviation of all 50 Mean squared error values = 42.28821962650301\n"
     ]
    }
   ],
   "source": [
    "print(\"With epochs 100- Part C\")\n",
    "print(f\"\\nMean of all 50 Mean squared error values = {mse_array_50_mean}\")\n",
    "print(f\"Standard Deviation of all 50 Mean squared error values = {mse_array_50_std}\")"
   ]
  },
  {
   "cell_type": "code",
   "execution_count": null,
   "id": "3a289fb8",
   "metadata": {},
   "outputs": [],
   "source": []
  }
 ],
 "metadata": {
  "kernelspec": {
   "display_name": "Python 3 (ipykernel)",
   "language": "python",
   "name": "python3"
  },
  "language_info": {
   "codemirror_mode": {
    "name": "ipython",
    "version": 3
   },
   "file_extension": ".py",
   "mimetype": "text/x-python",
   "name": "python",
   "nbconvert_exporter": "python",
   "pygments_lexer": "ipython3",
   "version": "3.7.13"
  }
 },
 "nbformat": 4,
 "nbformat_minor": 5
}
